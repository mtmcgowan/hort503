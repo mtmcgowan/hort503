{
 "cells": [
  {
   "cell_type": "code",
   "execution_count": 1,
   "metadata": {
    "collapsed": true
   },
   "outputs": [],
   "source": [
    "import re   \n",
    "regex = re.compile('\\s+')"
   ]
  },
  {
   "cell_type": "code",
   "execution_count": 3,
   "metadata": {},
   "outputs": [
    {
     "name": "stdout",
     "output_type": "stream",
     "text": [
      "True\n"
     ]
    }
   ],
   "source": [
    "# 1. Extract the user id, domain name and suffix from the following email addresses.\n",
    "emails = \"\"\"zuck26@facebook.com\n",
    "page33@google.com\n",
    "jeff42@amazon.com\"\"\"\n",
    "\n",
    "desired_output = [('zuck26', 'facebook', 'com'),\n",
    " ('page33', 'google', 'com'),\n",
    " ('jeff42', 'amazon', 'com')]\n",
    "\n",
    "pattern = r'(.+)@([A-Z0-9]+)\\.([A-Z]{2,4})'\n",
    "test = re.findall(pattern, emails, flags=re.IGNORECASE)\n",
    "\n",
    "print(desired_output == test)"
   ]
  },
  {
   "cell_type": "code",
   "execution_count": 24,
   "metadata": {},
   "outputs": [
    {
     "name": "stdout",
     "output_type": "stream",
     "text": [
      "['Betty', 'bought', 'bit', 'butter', 'But', 'butter', 'bitter', 'bought', 'better', 'butter', 'bitter', 'butter', 'better']\n",
      "True\n"
     ]
    }
   ],
   "source": [
    "# 2. Retrieve all the words starting with ‘b’ or ‘B’ from the following text.\n",
    "\n",
    "text = \"\"\"Betty bought a bit of butter, But the butter was so bitter, So she bought some better butter, To make the bitter butter better.\"\"\" \n",
    "\n",
    "desired_output = (['Betty', 'bought', 'bit', 'butter', 'But', 'butter', 'bitter', 'bought', 'better', 'butter', 'bitter', 'butter', 'better'])\n",
    "pattern = r'B\\w+'\n",
    "test = re.findall(pattern, text, flags=re.IGNORECASE)\n",
    "\n",
    "print(test)\n",
    "print(desired_output == test)"
   ]
  },
  {
   "cell_type": "code",
   "execution_count": 41,
   "metadata": {},
   "outputs": [
    {
     "name": "stdout",
     "output_type": "stream",
     "text": [
      "A very very irregular sentence\n",
      "True\n"
     ]
    }
   ],
   "source": [
    "# 3. Split the following irregular sentence into words\n",
    "\n",
    "sentence = \"\"\"A, very   very; irregular_sentence\"\"\"\n",
    "desired_output = \"A very very irregular sentence\"\n",
    "\n",
    "pattern = r'[\\s;,_]+'\n",
    "\n",
    "test = ' '.join(re.split(pattern, sentence))\n",
    "print(test)\n",
    "print(desired_output == test)"
   ]
  },
  {
   "cell_type": "code",
   "execution_count": 63,
   "metadata": {},
   "outputs": [
    {
     "name": "stdout",
     "output_type": "stream",
     "text": [
      "Good advice What I would do differently if I was learning to code today\n",
      "True\n"
     ]
    }
   ],
   "source": [
    "# 4. Clean up the following tweet so that it contains only the user’s message. That is, remove all URLs, hashtags, mentions, punctuations, RTs and CCs.\n",
    "\n",
    "tweet = '''Good advice! RT @TheNextWeb: What I would do differently if I was learning to code today http://t.co/lbwej0pxOd cc: @garybernhardt #rstats'''\n",
    "\n",
    "desired_output = 'Good advice What I would do differently if I was learning to code today'\n",
    "\n",
    "URL_pattern = r'http\\S+\\s*'\n",
    "hashtag_pattern = r'\\#\\w+'\n",
    "mentions_pattern = r'@\\w+'\n",
    "punct_pattern = r'[.,\\/#!$%\\^&\\*;:{}=\\-_`~()]'\n",
    "others_pattern = r'cc|RT'\n",
    "\n",
    "patterns = (URL_pattern, hashtag_pattern, mentions_pattern, punct_pattern, others_pattern)\n",
    "test = tweet\n",
    "for i in patterns:\n",
    "    test = re.sub(i, '', test)\n",
    "test = re.sub('\\s+', ' ', test)  # remove extra whitespace\n",
    "test = re.sub(' $', '', test) # remove whitespace at the end of the line\n",
    "print(test)\n",
    "print(desired_output == test)"
   ]
  },
  {
   "cell_type": "code",
   "execution_count": 67,
   "metadata": {},
   "outputs": [
    {
     "name": "stdout",
     "output_type": "stream",
     "text": [
      "['Your Title Here', 'Link Name', 'This is a Header', 'This is a Medium Header', 'This is a new paragraph! ', 'This is a another paragraph!', 'This is a new sentence without a paragraph break, in bold italics.']\n",
      "True\n"
     ]
    }
   ],
   "source": [
    "# 5. Extract all the text portions between the tags from the following HTML page: https://raw.githubusercontent.com/selva86/datasets/master/sample.html\n",
    "\n",
    "import requests\n",
    "r = requests.get(\"https://raw.githubusercontent.com/selva86/datasets/master/sample.html\")\n",
    "r.text  # html text is contained here\n",
    "\n",
    "desired_output = ['Your Title Here', 'Link Name', 'This is a Header', 'This is a Medium Header', 'This is a new paragraph! ', 'This is a another paragraph!', 'This is a new sentence without a paragraph break, in bold italics.']\n",
    "pattern = r'(?<=\\>).+(?=\\<)'\n",
    "test = re.findall(pattern, r.text, flags=re.IGNORECASE)\n",
    "print(test)\n",
    "print(desired_output == test)"
   ]
  },
  {
   "cell_type": "code",
   "execution_count": null,
   "metadata": {
    "collapsed": true
   },
   "outputs": [],
   "source": []
  }
 ],
 "metadata": {
  "kernelspec": {
   "display_name": "Python 3",
   "language": "python",
   "name": "python3"
  },
  "language_info": {
   "codemirror_mode": {
    "name": "ipython",
    "version": 3
   },
   "file_extension": ".py",
   "mimetype": "text/x-python",
   "name": "python",
   "nbconvert_exporter": "python",
   "pygments_lexer": "ipython3",
   "version": "3.6.3"
  }
 },
 "nbformat": 4,
 "nbformat_minor": 2
}
