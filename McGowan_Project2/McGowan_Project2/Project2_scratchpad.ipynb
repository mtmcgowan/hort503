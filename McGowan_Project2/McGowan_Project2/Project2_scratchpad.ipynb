{
 "cells": [
  {
   "cell_type": "code",
   "execution_count": 55,
   "metadata": {
    "collapsed": true
   },
   "outputs": [],
   "source": [
    "# This project is for exploratory analysis and functionality testing of a mpileup file\n",
    "# The goal is to develop a set of functions that can call SNP variants from a .mpileup\n",
    "\n",
    "# Import dependencies\n",
    "import re\n",
    "import numpy as np\n",
    "\n",
    "# Defining the input and output streams\n",
    "infilename = \"Fragaria_x_ananassa-Winter_Dawn_vs_fvesca_v1.1_pseudo.fna.LG1_50K.pileup\"\n",
    "outfilename = \"test_out.txt\"\n"
   ]
  },
  {
   "cell_type": "code",
   "execution_count": 87,
   "metadata": {
    "collapsed": true
   },
   "outputs": [],
   "source": [
    "# Defining a main function that processes a mpileup file and outputs SNP locations\n",
    "def call_SNPs(infilename, outfilename):\n",
    "    \n",
    "    # Open outfile\n",
    "    outfile = open(outfilename, \"w+\")    \n",
    "    \n",
    "    # Instantiate temp objects\n",
    "    temp_pos = gen_pos()\n",
    "    \n",
    "    # Iterate through the file checking for variants\n",
    "    with open(infilename,'r') as infile:\n",
    "        line_int = 0\n",
    "        for line in infile:\n",
    "            line_int += 1\n",
    "            print(line_int)\n",
    "            temp_pos = gen_pos()\n",
    "            temp_pos.readline(line.strip('\\n'))\n",
    "            temp_pos.write_var(outfile)\n",
    "    \n",
    "    outfile.close()"
   ]
  },
  {
   "cell_type": "code",
   "execution_count": 168,
   "metadata": {
    "collapsed": true
   },
   "outputs": [],
   "source": [
    "# Defining a class that describes a specific position in a genome\n",
    "class gen_pos:\n",
    "    # Define full generator that accepts all fields\n",
    "    def __init__(self, chromosome = \"default\", coordinate = 0, ref_base = \"A\", read_ct = 0, reads = \"\", base_quals = \"\"):\n",
    "        self.chromosome = chromosome\n",
    "        self.coord = coordinate\n",
    "        self.ref_base = ref_base\n",
    "        self.read_ct = read_ct\n",
    "        self.reads = reads\n",
    "        self.base_quals = base_quals\n",
    "        self.filter = None\n",
    "        self.variant_flag = None\n",
    "        self.variants = np.array([False, False, False, False], dtype = bool)\n",
    "        self.variant_freq = np.array([0, 0, 0, 0], dtype = float)\n",
    "    \n",
    "    # Define a method for extracting a genome position from a .mpileup filestream\n",
    "        # Origin Date: \n",
    "        # Recent Update:\n",
    "        # Author: Matthew McGowan\n",
    "        # PRECONDITION: Filestream must be in standard .mpileup format and open for processing\n",
    "    def readline(self, line):\n",
    "        #line = infile.readline().rstrip('\\n')\n",
    "        line_split = line.split(\"\\t\")\n",
    "        self.chromosome = line_split[0]\n",
    "        self.coord = int(line_split[1])\n",
    "        self.ref_base = line_split[2]\n",
    "        self.read_ct = int(line_split[3])      \n",
    "        self.reads = np.asarray(parse_basestring(line_split[4]))\n",
    "        self.base_quals = convert_qual(line_split[5])\n",
    "        self.filter = self.check_indel()\n",
    "        self.variant = self.check_variant()\n",
    "        \n",
    "    # A member function that prints a position to an outstream        \n",
    "    def print(self):\n",
    "        print(f\"Chromosome: {self.chromosome}\")\n",
    "        print(f\"Coordinate: {self.coord}\")\n",
    "        print(f\"Reference: {self.ref_base}\")\n",
    "        print(f\"Read Count: {self.read_ct}\")\n",
    "        print(f\"Reads: {self.reads}\")\n",
    "        print(f\"Base Qualities: {self.base_quals}\")\n",
    "        print(f\"Filter: {self.filter}\")\n",
    "        print(f\"Variant Flag: {self.variant_flag}\")\n",
    "        print(f\"Variants: {self.variants}\")\n",
    "        print(f\"Variant freq: {self.variant_freq}\")\n",
    "        \n",
    "    # A member function that checks whether an indel is present\n",
    "    def check_indel(self):\n",
    "        if (check_indel(self.reads)):\n",
    "            return True\n",
    "        else:\n",
    "            return False\n",
    "        \n",
    "    # A member function that checks if a variant is present (returns 1 if true)\n",
    "    def check_variant(self):\n",
    "        #print(\"checking for variant\")\n",
    "        #print(f\"Reference: {self.ref_base}\")\n",
    "        #print(f\"Reads: {self.reads}\")\n",
    "        #print(f\"Quals: {self.base_quals}\")\n",
    "        \n",
    "        if (not self.filter): # Only check if not filtered\n",
    "            read_ct = 0\n",
    "            ref_ct = 0\n",
    "            a_ct = 0\n",
    "            t_ct = 0\n",
    "            c_ct = 0\n",
    "            g_ct = 0\n",
    "            \n",
    "            for i in range(0, len(self.reads)): # Count the reference and variant reads\n",
    "                char_val = self.reads[i]\n",
    "                qual_val = self.base_quals[i]\n",
    "                \n",
    "                if ((char_val == \".\" or char_val == \",\") and qual_val >30):\n",
    "                    read_ct += 1\n",
    "                    ref_ct += 1\n",
    "                elif ((char_val == \"a\" or char_val == \"A\") and qual_val >30):\n",
    "                    read_ct += 1\n",
    "                    a_ct += 1\n",
    "                elif ((char_val == \"t\" or char_val == \"T\") and qual_val >30):\n",
    "                    read_ct += 1\n",
    "                    t_ct += 1\n",
    "                elif ((char_val == \"c\" or char_val == \"C\") and qual_val >30):\n",
    "                    read_ct += 1\n",
    "                    c_ct += 1\n",
    "                elif ((char_val == \"g\" or char_val == \"G\") and qual_val >30):\n",
    "                    read_ct += 1\n",
    "                    g_ct += 1\n",
    "            \n",
    "            #print(f\"Reference count: {ref_ct}\")\n",
    "            \n",
    "            # Check each variant to see if a variant is present\n",
    "            if (read_ct > 10 and a_ct > 3):\n",
    "                self.variant_flag = True\n",
    "                self.variants[0] = True\n",
    "                self.variant_freq[0] = a_ct / read_ct\n",
    "                \n",
    "            if (read_ct > 10 and t_ct > 3):\n",
    "                self.variant_flag = True\n",
    "                self.variants[1] = True\n",
    "                self.variant_freq[1] = t_ct / read_ct\n",
    "                \n",
    "            if (read_ct > 10 and c_ct > 3):\n",
    "                self.variant_flag = True\n",
    "                self.variants[2] = True\n",
    "                self.variant_freq[2] = c_ct / read_ct\n",
    "                \n",
    "            if (read_ct > 10 and g_ct > 3):\n",
    "                self.variant_flag = True\n",
    "                self.variants[3] = True\n",
    "                self.variant_freq[3] = g_ct / read_ct\n",
    "    \n",
    "    # A member function that writes any variants at a position to a file (in tab-delimited format: 'name', 'position', 'reference base', 'variant base', 'variant frequency')\n",
    "    def write_var(self, outfile):\n",
    "        if (self.variant_flag):\n",
    "            if (self.variants[0]): # 'A' variant present\n",
    "                outfile.write(f\"{self.chromosome}\\t{self.coord}\\t{self.ref_base}\\tA\\t{round(self.variant_freq[0], 2)}\")\n",
    "                \n",
    "            if (self.variants[1]): # 'A' variant present\n",
    "                outfile.write(f\"{self.chromosome}\\t{self.coord}\\t{self.ref_base}\\tT\\t{round(self.variant_freq[1], 2)}\")\n",
    "                \n",
    "            if (self.variants[2]): # 'A' variant present\n",
    "                outfile.write(f\"{self.chromosome}\\t{self.coord}\\t{self.ref_base}\\tC\\t{round(self.variant_freq[2], 2)}\")\n",
    "                \n",
    "            if (self.variants[3]): # 'A' variant present\n",
    "                outfile.write(f\"{self.chromosome}\\t{self.coord}\\t{self.ref_base}\\tG\\t{round(self.variant_freq[3], 2)}\")"
   ]
  },
  {
   "cell_type": "code",
   "execution_count": 169,
   "metadata": {
    "collapsed": true
   },
   "outputs": [],
   "source": [
    "# Define a function that converts an ASCII quality score string to an integer array\n",
    "def convert_qual(instring):\n",
    "    char_array = list(instring)\n",
    "    int_array = np.empty(len(char_array), dtype=int)\n",
    "    \n",
    "    for i in range(0, len(char_array)):\n",
    "        int_array[i] = ord(char_array[i]) - 33\n",
    "        \n",
    "    return int_array"
   ]
  },
  {
   "cell_type": "code",
   "execution_count": 170,
   "metadata": {
    "collapsed": true
   },
   "outputs": [],
   "source": [
    "# Define a function that checks a base alignmnet string for indels or reference skips (returns 1 if present)\n",
    "def check_indel(input):\n",
    "    flag_chars = ['*', '+', '-', '<', '>']    \n",
    "    flag = 0\n",
    "    \n",
    "    for i in input:\n",
    "        if (i in flag_chars):\n",
    "            flag = 1\n",
    "    return flag"
   ]
  },
  {
   "cell_type": "code",
   "execution_count": 176,
   "metadata": {},
   "outputs": [],
   "source": [
    "# Define a function that parses a base alignment string, removes unnecessary characters and returns a char array\n",
    "def parse_basestring(instring):\n",
    "    temp_string = re.sub(r'\\^.', '', instring)\n",
    "    temp_string = re.sub(r'[$]', '', temp_string)\n",
    "    return list(temp_string)"
   ]
  },
  {
   "cell_type": "code",
   "execution_count": 177,
   "metadata": {},
   "outputs": [
    {
     "name": "stdout",
     "output_type": "stream",
     "text": [
      "['.', '.', '.', '.', '.', '.', '.', '.', '.', '.', '.', '.']\n"
     ]
    }
   ],
   "source": []
  },
  {
   "cell_type": "code",
   "execution_count": 178,
   "metadata": {
    "collapsed": true
   },
   "outputs": [],
   "source": []
  },
  {
   "cell_type": "code",
   "execution_count": null,
   "metadata": {
    "collapsed": true
   },
   "outputs": [],
   "source": []
  }
 ],
 "metadata": {
  "kernelspec": {
   "display_name": "Python 3",
   "language": "python",
   "name": "python3"
  },
  "language_info": {
   "codemirror_mode": {
    "name": "ipython",
    "version": 3
   },
   "file_extension": ".py",
   "mimetype": "text/x-python",
   "name": "python",
   "nbconvert_exporter": "python",
   "pygments_lexer": "ipython3",
   "version": "3.6.3"
  }
 },
 "nbformat": 4,
 "nbformat_minor": 2
}
