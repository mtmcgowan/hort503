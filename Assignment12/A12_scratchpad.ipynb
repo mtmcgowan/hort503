{
 "cells": [
  {
   "cell_type": "code",
   "execution_count": 43,
   "metadata": {},
   "outputs": [
    {
     "name": "stdout",
     "output_type": "stream",
     "text": [
      "Model_name\tType\tShort_description\tCurator_summary\tComputational_description\n",
      "AT1G01010.1\tprotein_coding\tNAC domain containing protein 1\t\tNAC domain containing protein 1 (NAC001); FUNCTIONS IN: sequence-specific DNA binding transcription factor activity; INVOLVED IN: multicellular organismal development, regulation of transcription; LOCATED IN: cellular_component unknown; EXPRESSED IN: 7 plant structures; EXPRESSED DURING: 4 anthesis, C globular stage, petal differentiation and expansion stage; CONTAINS InterPro DOMAIN/s: No apical meristem (NAM) protein (InterPro:IPR003441); BEST Arabidopsis thaliana protein match is: NAC domain containing protein 69 (TAIR:AT4G01550.1); Has 2503 Blast hits to 2496 proteins in 69 species: Archae - 0; Bacteria - 0; Metazoa - 0; Fungi - 0; Plants - 2502; Viruses - 0; Other Eukaryotes - 1 (source: NCBI BLink).\n",
      "AT1G01020.1\tprotein_coding\tArv1-like protein\t\tARV1; CONTAINS InterPro DOMAIN/s: Arv1-like protein (InterPro:IPR007290); BEST Arabidopsis thaliana pro\n"
     ]
    }
   ],
   "source": [
    "import re\n",
    "import pandas as pd\n",
    "import numpy as np\n",
    "from io import StringIO\n",
    "\n",
    "infile = 'TAIR10_functional_descriptions.txt'\n",
    "outfile = \"A12_taskA_out.csv\"\n",
    "with open(filename, 'r') as myfile:\n",
    "    text = myfile.read()\n",
    "    \n",
    "print(text[0:1000])"
   ]
  },
  {
   "cell_type": "code",
   "execution_count": 52,
   "metadata": {},
   "outputs": [
    {
     "name": "stdout",
     "output_type": "stream",
     "text": [
      "\n",
      "AT1G01010.1,IPR003441,,\n",
      "AT1G01020.1,IPR007290,,\n",
      "AT1G01020.2,IPR007290,,\n",
      "AT1G01030.1,IPR003340,,\n",
      "AT1G01040.1,IPR006935,IPR001159,IPR003100,IPR000999,IPR014720,IPR014001,IPR001650,IPR014021,IPR005034,,\n",
      "AT1G01040.2,IPR006935,IPR001159,IPR003100,IPR000999,IPR014720,IPR014001,IPR001650,IPR005034,IPR014021,,\n",
      "AT1G01046.1,,\n",
      "AT1G01050.1,IPR008162,,\n",
      "AT1G01060.1,IPR001005,IPR009057,IPR014778,IPR017930,IPR006447,,\n",
      "AT1G01060.2,IPR001005,IPR009057,IPR014778,IPR017930,IPR006447,,\n",
      "AT1G01060.3,IPR001005,IPR009057,IPR014778,IPR017930,IPR006447,,\n",
      "AT1G01060.4,IPR001005,IPR014778,IPR009057,IPR006447,IPR017930,,\n",
      "AT1G01060.5,,\n",
      "AT1G01070.1,IPR000620,,\n",
      "AT1G01070.2,IPR000620,,\n",
      "AT1G01073.1,,\n",
      "AT1G01080.1,IPR000504,IPR012677,,\n",
      "AT1G01080.2,IPR000504,IPR012677,,\n",
      "AT1G01090.1,IPR001017,IPR017597,,\n",
      "AT1G01100.1,IPR001813,,\n",
      "AT1G01100.2,IPR001813,,\n",
      "AT1G01100.3,IPR001813,,\n",
      "AT1G01100.4,IPR001813,,\n",
      "AT1G01110.1,,\n",
      "AT1G01110.2,IPR000048,,\n",
      "AT1G01115.1,,\n",
      "AT1G01120.1,IPR016039,IPR012392,IPR013747,IPR013601,IPR016038,,\n",
      "AT1G01130.\n"
     ]
    }
   ],
   "source": [
    "##results = re.sub(r'.*?(^AT[\\d+|\\w]G\\d+\\.\\d+|IPR\\d+|$).*?', r'\\1,', text, count=0, flags=re.MULTILINE)\n",
    "results = re.sub('.*?(^AT\\dG\\d+\\.\\d+|IPR\\d+|$).*?', r'\\1,',text, 0, re.M)\n",
    "results_io = StringIO(results)\n",
    "\n",
    "print(results[1:1000])"
   ]
  },
  {
   "cell_type": "code",
   "execution_count": 53,
   "metadata": {},
   "outputs": [],
   "source": [
    "df = pd.read_csv(results_io, names= range(15), sep=\",\", skiprows = 1, error_bad_lines = False)"
   ]
  },
  {
   "cell_type": "code",
   "execution_count": 54,
   "metadata": {},
   "outputs": [],
   "source": [
    "\n",
    "df.columns = ['Transcript ID', 'IPR1', 'IPR2', 'IPR3', 'IPR4', 'IPR5', 'IPR6', 'IPR7', \"IPR8\", \"IPR9\", \"IPR10\", \"IPR11\", \"IPR12\", \"IPR13\", \"IPR14\"]\n",
    "\n",
    "annots = df.melt(id_vars = 'Transcript ID', value_name='IPR Term')\n",
    "annots = annots.drop('variable', axis=1)\n",
    "annots = annots.dropna()\n",
    "\n",
    "annots.to_csv(outfile, sep = ',', index=False)"
   ]
  },
  {
   "cell_type": "code",
   "execution_count": null,
   "metadata": {
    "collapsed": true
   },
   "outputs": [],
   "source": []
  }
 ],
 "metadata": {
  "kernelspec": {
   "display_name": "Python 3",
   "language": "python",
   "name": "python3"
  },
  "language_info": {
   "codemirror_mode": {
    "name": "ipython",
    "version": 3
   },
   "file_extension": ".py",
   "mimetype": "text/x-python",
   "name": "python",
   "nbconvert_exporter": "python",
   "pygments_lexer": "ipython3",
   "version": "3.6.3"
  }
 },
 "nbformat": 4,
 "nbformat_minor": 2
}
