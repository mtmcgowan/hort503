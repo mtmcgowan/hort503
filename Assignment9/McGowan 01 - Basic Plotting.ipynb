{
 "cells": [
  {
   "cell_type": "markdown",
   "metadata": {
    "collapsed": true
   },
   "source": [
    "<table style=\"float:left; border:none\">\n",
    "   <tr style=\"border:none; background-color: #ffffff\">\n",
    "       <td style=\"border:none\">\n",
    "           <a href=\"http://bokeh.pydata.org/\">     \n",
    "           <img \n",
    "               src=\"assets/bokeh-transparent.png\" \n",
    "               style=\"width:50px\"\n",
    "           >\n",
    "           </a>    \n",
    "       </td>\n",
    "       <td style=\"border:none\">\n",
    "           <h1>Bokeh Tutorial</h1>\n",
    "       </td>\n",
    "   </tr>\n",
    "</table>\n",
    "\n",
    "<div style=\"float:right;\"><h2>01. Basic Plotting</h2></div>"
   ]
  },
  {
   "cell_type": "markdown",
   "metadata": {},
   "source": [
    "This section of the tutorial covers the [`bokeh.plotting`](http://bokeh.pydata.org/en/latest/docs/user_guide/plotting.html) \n",
    "interface. This interface is a \"mid-level\" interface, and the main idea can be described by the statement:\n",
    "\n",
    "**Starting from simple default figures (with sensible default tools, grids and axes), add markers and other shapes whose visual attributes are tied to directly data.**\n",
    "\n",
    "We will see that it is possible to customize and change all of the defaults, but having them means that it is possible to get up and running very quickly. "
   ]
  },
  {
   "cell_type": "markdown",
   "metadata": {},
   "source": [
    "# Imports and Setup\n",
    "\n",
    "When using the [`bokeh.plotting`](http://bokeh.pydata.org/en/latest/docs/user_guide/plotting.html) interface, there are a few common imports:\n",
    "* Use the [`figure`](http://bokeh.pydata.org/en/latest/docs/reference/plotting.html#bokeh.plotting.figure) function to  create new plot objects to work with. \n",
    "* Call the functions [`output_file`](http://bokeh.pydata.org/en/latest/docs/reference/resources_embedding.html#bokeh.io.output_file), [`output_notebook`](http://bokeh.pydata.org/en/latest/docs/reference/resources_embedding.html#bokeh.io.output_notebook), and [`output_server`](http://bokeh.pydata.org/en/latest/docs/reference/resources_embedding.html#bokeh.io.output_server) (possibly in combination) to tell Bokeh how to display or save output. \n",
    "* Execute [`show`](http://bokeh.pydata.org/en/latest/docs/reference/resources_embedding.html#bokeh.io.show) and  [`save`](http://bokeh.pydata.org/en/latest/docs/reference/resources_embedding.html#bokeh.io.save) to display or save plots and layouts."
   ]
  },
  {
   "cell_type": "code",
   "execution_count": 1,
   "metadata": {},
   "outputs": [],
   "source": [
    "from bokeh.io import output_notebook, show\n",
    "from bokeh.plotting import figure"
   ]
  },
  {
   "cell_type": "code",
   "execution_count": null,
   "metadata": {},
   "outputs": [],
   "source": []
  },
  {
   "cell_type": "markdown",
   "metadata": {},
   "source": [
    "In this case, we are in the Jupyter notebook, so call `output_notebook()`. We only need to call this once, and all subsequent calls to `show()` will display inline in the notebook."
   ]
  },
  {
   "cell_type": "code",
   "execution_count": 2,
   "metadata": {},
   "outputs": [
    {
     "data": {
      "text/html": [
       "\n",
       "    <div class=\"bk-root\">\n",
       "        <a href=\"https://bokeh.pydata.org\" target=\"_blank\" class=\"bk-logo bk-logo-small bk-logo-notebook\"></a>\n",
       "        <span id=\"97468819-ccdd-466d-b66f-0276ad3c3206\">Loading BokehJS ...</span>\n",
       "    </div>"
      ]
     },
     "metadata": {},
     "output_type": "display_data"
    },
    {
     "data": {
      "application/javascript": [
       "\n",
       "(function(root) {\n",
       "  function now() {\n",
       "    return new Date();\n",
       "  }\n",
       "\n",
       "  var force = true;\n",
       "\n",
       "  if (typeof (root._bokeh_onload_callbacks) === \"undefined\" || force === true) {\n",
       "    root._bokeh_onload_callbacks = [];\n",
       "    root._bokeh_is_loading = undefined;\n",
       "  }\n",
       "\n",
       "  var JS_MIME_TYPE = 'application/javascript';\n",
       "  var HTML_MIME_TYPE = 'text/html';\n",
       "  var EXEC_MIME_TYPE = 'application/vnd.bokehjs_exec.v0+json';\n",
       "  var CLASS_NAME = 'output_bokeh rendered_html';\n",
       "\n",
       "  /**\n",
       "   * Render data to the DOM node\n",
       "   */\n",
       "  function render(props, node) {\n",
       "    var script = document.createElement(\"script\");\n",
       "    node.appendChild(script);\n",
       "  }\n",
       "\n",
       "  /**\n",
       "   * Handle when an output is cleared or removed\n",
       "   */\n",
       "  function handleClearOutput(event, handle) {\n",
       "    var cell = handle.cell;\n",
       "\n",
       "    var id = cell.output_area._bokeh_element_id;\n",
       "    var server_id = cell.output_area._bokeh_server_id;\n",
       "    // Clean up Bokeh references\n",
       "    if (id !== undefined) {\n",
       "      Bokeh.index[id].model.document.clear();\n",
       "      delete Bokeh.index[id];\n",
       "    }\n",
       "\n",
       "    if (server_id !== undefined) {\n",
       "      // Clean up Bokeh references\n",
       "      var cmd = \"from bokeh.io.state import curstate; print(curstate().uuid_to_server['\" + server_id + \"'].get_sessions()[0].document.roots[0]._id)\";\n",
       "      cell.notebook.kernel.execute(cmd, {\n",
       "        iopub: {\n",
       "          output: function(msg) {\n",
       "            var element_id = msg.content.text.trim();\n",
       "            Bokeh.index[element_id].model.document.clear();\n",
       "            delete Bokeh.index[element_id];\n",
       "          }\n",
       "        }\n",
       "      });\n",
       "      // Destroy server and session\n",
       "      var cmd = \"import bokeh.io.notebook as ion; ion.destroy_server('\" + server_id + \"')\";\n",
       "      cell.notebook.kernel.execute(cmd);\n",
       "    }\n",
       "  }\n",
       "\n",
       "  /**\n",
       "   * Handle when a new output is added\n",
       "   */\n",
       "  function handleAddOutput(event, handle) {\n",
       "    var output_area = handle.output_area;\n",
       "    var output = handle.output;\n",
       "\n",
       "    // limit handleAddOutput to display_data with EXEC_MIME_TYPE content only\n",
       "    if ((output.output_type != \"display_data\") || (!output.data.hasOwnProperty(EXEC_MIME_TYPE))) {\n",
       "      return\n",
       "    }\n",
       "\n",
       "    var toinsert = output_area.element.find(\".\" + CLASS_NAME.split(' ')[0]);\n",
       "\n",
       "    if (output.metadata[EXEC_MIME_TYPE][\"id\"] !== undefined) {\n",
       "      toinsert[0].firstChild.textContent = output.data[JS_MIME_TYPE];\n",
       "      // store reference to embed id on output_area\n",
       "      output_area._bokeh_element_id = output.metadata[EXEC_MIME_TYPE][\"id\"];\n",
       "    }\n",
       "    if (output.metadata[EXEC_MIME_TYPE][\"server_id\"] !== undefined) {\n",
       "      var bk_div = document.createElement(\"div\");\n",
       "      bk_div.innerHTML = output.data[HTML_MIME_TYPE];\n",
       "      var script_attrs = bk_div.children[0].attributes;\n",
       "      for (var i = 0; i < script_attrs.length; i++) {\n",
       "        toinsert[0].firstChild.setAttribute(script_attrs[i].name, script_attrs[i].value);\n",
       "      }\n",
       "      // store reference to server id on output_area\n",
       "      output_area._bokeh_server_id = output.metadata[EXEC_MIME_TYPE][\"server_id\"];\n",
       "    }\n",
       "  }\n",
       "\n",
       "  function register_renderer(events, OutputArea) {\n",
       "\n",
       "    function append_mime(data, metadata, element) {\n",
       "      // create a DOM node to render to\n",
       "      var toinsert = this.create_output_subarea(\n",
       "        metadata,\n",
       "        CLASS_NAME,\n",
       "        EXEC_MIME_TYPE\n",
       "      );\n",
       "      this.keyboard_manager.register_events(toinsert);\n",
       "      // Render to node\n",
       "      var props = {data: data, metadata: metadata[EXEC_MIME_TYPE]};\n",
       "      render(props, toinsert[0]);\n",
       "      element.append(toinsert);\n",
       "      return toinsert\n",
       "    }\n",
       "\n",
       "    /* Handle when an output is cleared or removed */\n",
       "    events.on('clear_output.CodeCell', handleClearOutput);\n",
       "    events.on('delete.Cell', handleClearOutput);\n",
       "\n",
       "    /* Handle when a new output is added */\n",
       "    events.on('output_added.OutputArea', handleAddOutput);\n",
       "\n",
       "    /**\n",
       "     * Register the mime type and append_mime function with output_area\n",
       "     */\n",
       "    OutputArea.prototype.register_mime_type(EXEC_MIME_TYPE, append_mime, {\n",
       "      /* Is output safe? */\n",
       "      safe: true,\n",
       "      /* Index of renderer in `output_area.display_order` */\n",
       "      index: 0\n",
       "    });\n",
       "  }\n",
       "\n",
       "  // register the mime type if in Jupyter Notebook environment and previously unregistered\n",
       "  if (root.Jupyter !== undefined) {\n",
       "    var events = require('base/js/events');\n",
       "    var OutputArea = require('notebook/js/outputarea').OutputArea;\n",
       "\n",
       "    if (OutputArea.prototype.mime_types().indexOf(EXEC_MIME_TYPE) == -1) {\n",
       "      register_renderer(events, OutputArea);\n",
       "    }\n",
       "  }\n",
       "\n",
       "  \n",
       "  if (typeof (root._bokeh_timeout) === \"undefined\" || force === true) {\n",
       "    root._bokeh_timeout = Date.now() + 5000;\n",
       "    root._bokeh_failed_load = false;\n",
       "  }\n",
       "\n",
       "  var NB_LOAD_WARNING = {'data': {'text/html':\n",
       "     \"<div style='background-color: #fdd'>\\n\"+\n",
       "     \"<p>\\n\"+\n",
       "     \"BokehJS does not appear to have successfully loaded. If loading BokehJS from CDN, this \\n\"+\n",
       "     \"may be due to a slow or bad network connection. Possible fixes:\\n\"+\n",
       "     \"</p>\\n\"+\n",
       "     \"<ul>\\n\"+\n",
       "     \"<li>re-rerun `output_notebook()` to attempt to load from CDN again, or</li>\\n\"+\n",
       "     \"<li>use INLINE resources instead, as so:</li>\\n\"+\n",
       "     \"</ul>\\n\"+\n",
       "     \"<code>\\n\"+\n",
       "     \"from bokeh.resources import INLINE\\n\"+\n",
       "     \"output_notebook(resources=INLINE)\\n\"+\n",
       "     \"</code>\\n\"+\n",
       "     \"</div>\"}};\n",
       "\n",
       "  function display_loaded() {\n",
       "    var el = document.getElementById(\"97468819-ccdd-466d-b66f-0276ad3c3206\");\n",
       "    if (el != null) {\n",
       "      el.textContent = \"BokehJS is loading...\";\n",
       "    }\n",
       "    if (root.Bokeh !== undefined) {\n",
       "      if (el != null) {\n",
       "        el.textContent = \"BokehJS \" + root.Bokeh.version + \" successfully loaded.\";\n",
       "      }\n",
       "    } else if (Date.now() < root._bokeh_timeout) {\n",
       "      setTimeout(display_loaded, 100)\n",
       "    }\n",
       "  }\n",
       "\n",
       "\n",
       "  function run_callbacks() {\n",
       "    try {\n",
       "      root._bokeh_onload_callbacks.forEach(function(callback) { callback() });\n",
       "    }\n",
       "    finally {\n",
       "      delete root._bokeh_onload_callbacks\n",
       "    }\n",
       "    console.info(\"Bokeh: all callbacks have finished\");\n",
       "  }\n",
       "\n",
       "  function load_libs(js_urls, callback) {\n",
       "    root._bokeh_onload_callbacks.push(callback);\n",
       "    if (root._bokeh_is_loading > 0) {\n",
       "      console.log(\"Bokeh: BokehJS is being loaded, scheduling callback at\", now());\n",
       "      return null;\n",
       "    }\n",
       "    if (js_urls == null || js_urls.length === 0) {\n",
       "      run_callbacks();\n",
       "      return null;\n",
       "    }\n",
       "    console.log(\"Bokeh: BokehJS not loaded, scheduling load and callback at\", now());\n",
       "    root._bokeh_is_loading = js_urls.length;\n",
       "    for (var i = 0; i < js_urls.length; i++) {\n",
       "      var url = js_urls[i];\n",
       "      var s = document.createElement('script');\n",
       "      s.src = url;\n",
       "      s.async = false;\n",
       "      s.onreadystatechange = s.onload = function() {\n",
       "        root._bokeh_is_loading--;\n",
       "        if (root._bokeh_is_loading === 0) {\n",
       "          console.log(\"Bokeh: all BokehJS libraries loaded\");\n",
       "          run_callbacks()\n",
       "        }\n",
       "      };\n",
       "      s.onerror = function() {\n",
       "        console.warn(\"failed to load library \" + url);\n",
       "      };\n",
       "      console.log(\"Bokeh: injecting script tag for BokehJS library: \", url);\n",
       "      document.getElementsByTagName(\"head\")[0].appendChild(s);\n",
       "    }\n",
       "  };var element = document.getElementById(\"97468819-ccdd-466d-b66f-0276ad3c3206\");\n",
       "  if (element == null) {\n",
       "    console.log(\"Bokeh: ERROR: autoload.js configured with elementid '97468819-ccdd-466d-b66f-0276ad3c3206' but no matching script tag was found. \")\n",
       "    return false;\n",
       "  }\n",
       "\n",
       "  var js_urls = [\"https://cdn.pydata.org/bokeh/release/bokeh-0.12.13.min.js\", \"https://cdn.pydata.org/bokeh/release/bokeh-widgets-0.12.13.min.js\", \"https://cdn.pydata.org/bokeh/release/bokeh-tables-0.12.13.min.js\", \"https://cdn.pydata.org/bokeh/release/bokeh-gl-0.12.13.min.js\"];\n",
       "\n",
       "  var inline_js = [\n",
       "    function(Bokeh) {\n",
       "      Bokeh.set_log_level(\"info\");\n",
       "    },\n",
       "    \n",
       "    function(Bokeh) {\n",
       "      \n",
       "    },\n",
       "    function(Bokeh) {\n",
       "      console.log(\"Bokeh: injecting CSS: https://cdn.pydata.org/bokeh/release/bokeh-0.12.13.min.css\");\n",
       "      Bokeh.embed.inject_css(\"https://cdn.pydata.org/bokeh/release/bokeh-0.12.13.min.css\");\n",
       "      console.log(\"Bokeh: injecting CSS: https://cdn.pydata.org/bokeh/release/bokeh-widgets-0.12.13.min.css\");\n",
       "      Bokeh.embed.inject_css(\"https://cdn.pydata.org/bokeh/release/bokeh-widgets-0.12.13.min.css\");\n",
       "      console.log(\"Bokeh: injecting CSS: https://cdn.pydata.org/bokeh/release/bokeh-tables-0.12.13.min.css\");\n",
       "      Bokeh.embed.inject_css(\"https://cdn.pydata.org/bokeh/release/bokeh-tables-0.12.13.min.css\");\n",
       "    }\n",
       "  ];\n",
       "\n",
       "  function run_inline_js() {\n",
       "    \n",
       "    if ((root.Bokeh !== undefined) || (force === true)) {\n",
       "      for (var i = 0; i < inline_js.length; i++) {\n",
       "        inline_js[i].call(root, root.Bokeh);\n",
       "      }if (force === true) {\n",
       "        display_loaded();\n",
       "      }} else if (Date.now() < root._bokeh_timeout) {\n",
       "      setTimeout(run_inline_js, 100);\n",
       "    } else if (!root._bokeh_failed_load) {\n",
       "      console.log(\"Bokeh: BokehJS failed to load within specified timeout.\");\n",
       "      root._bokeh_failed_load = true;\n",
       "    } else if (force !== true) {\n",
       "      var cell = $(document.getElementById(\"97468819-ccdd-466d-b66f-0276ad3c3206\")).parents('.cell').data().cell;\n",
       "      cell.output_area.append_execute_result(NB_LOAD_WARNING)\n",
       "    }\n",
       "\n",
       "  }\n",
       "\n",
       "  if (root._bokeh_is_loading === 0) {\n",
       "    console.log(\"Bokeh: BokehJS loaded, going straight to plotting\");\n",
       "    run_inline_js();\n",
       "  } else {\n",
       "    load_libs(js_urls, function() {\n",
       "      console.log(\"Bokeh: BokehJS plotting callback run at\", now());\n",
       "      run_inline_js();\n",
       "    });\n",
       "  }\n",
       "}(window));"
      ],
      "application/vnd.bokehjs_load.v0+json": "\n(function(root) {\n  function now() {\n    return new Date();\n  }\n\n  var force = true;\n\n  if (typeof (root._bokeh_onload_callbacks) === \"undefined\" || force === true) {\n    root._bokeh_onload_callbacks = [];\n    root._bokeh_is_loading = undefined;\n  }\n\n  \n\n  \n  if (typeof (root._bokeh_timeout) === \"undefined\" || force === true) {\n    root._bokeh_timeout = Date.now() + 5000;\n    root._bokeh_failed_load = false;\n  }\n\n  var NB_LOAD_WARNING = {'data': {'text/html':\n     \"<div style='background-color: #fdd'>\\n\"+\n     \"<p>\\n\"+\n     \"BokehJS does not appear to have successfully loaded. If loading BokehJS from CDN, this \\n\"+\n     \"may be due to a slow or bad network connection. Possible fixes:\\n\"+\n     \"</p>\\n\"+\n     \"<ul>\\n\"+\n     \"<li>re-rerun `output_notebook()` to attempt to load from CDN again, or</li>\\n\"+\n     \"<li>use INLINE resources instead, as so:</li>\\n\"+\n     \"</ul>\\n\"+\n     \"<code>\\n\"+\n     \"from bokeh.resources import INLINE\\n\"+\n     \"output_notebook(resources=INLINE)\\n\"+\n     \"</code>\\n\"+\n     \"</div>\"}};\n\n  function display_loaded() {\n    var el = document.getElementById(\"97468819-ccdd-466d-b66f-0276ad3c3206\");\n    if (el != null) {\n      el.textContent = \"BokehJS is loading...\";\n    }\n    if (root.Bokeh !== undefined) {\n      if (el != null) {\n        el.textContent = \"BokehJS \" + root.Bokeh.version + \" successfully loaded.\";\n      }\n    } else if (Date.now() < root._bokeh_timeout) {\n      setTimeout(display_loaded, 100)\n    }\n  }\n\n\n  function run_callbacks() {\n    try {\n      root._bokeh_onload_callbacks.forEach(function(callback) { callback() });\n    }\n    finally {\n      delete root._bokeh_onload_callbacks\n    }\n    console.info(\"Bokeh: all callbacks have finished\");\n  }\n\n  function load_libs(js_urls, callback) {\n    root._bokeh_onload_callbacks.push(callback);\n    if (root._bokeh_is_loading > 0) {\n      console.log(\"Bokeh: BokehJS is being loaded, scheduling callback at\", now());\n      return null;\n    }\n    if (js_urls == null || js_urls.length === 0) {\n      run_callbacks();\n      return null;\n    }\n    console.log(\"Bokeh: BokehJS not loaded, scheduling load and callback at\", now());\n    root._bokeh_is_loading = js_urls.length;\n    for (var i = 0; i < js_urls.length; i++) {\n      var url = js_urls[i];\n      var s = document.createElement('script');\n      s.src = url;\n      s.async = false;\n      s.onreadystatechange = s.onload = function() {\n        root._bokeh_is_loading--;\n        if (root._bokeh_is_loading === 0) {\n          console.log(\"Bokeh: all BokehJS libraries loaded\");\n          run_callbacks()\n        }\n      };\n      s.onerror = function() {\n        console.warn(\"failed to load library \" + url);\n      };\n      console.log(\"Bokeh: injecting script tag for BokehJS library: \", url);\n      document.getElementsByTagName(\"head\")[0].appendChild(s);\n    }\n  };var element = document.getElementById(\"97468819-ccdd-466d-b66f-0276ad3c3206\");\n  if (element == null) {\n    console.log(\"Bokeh: ERROR: autoload.js configured with elementid '97468819-ccdd-466d-b66f-0276ad3c3206' but no matching script tag was found. \")\n    return false;\n  }\n\n  var js_urls = [\"https://cdn.pydata.org/bokeh/release/bokeh-0.12.13.min.js\", \"https://cdn.pydata.org/bokeh/release/bokeh-widgets-0.12.13.min.js\", \"https://cdn.pydata.org/bokeh/release/bokeh-tables-0.12.13.min.js\", \"https://cdn.pydata.org/bokeh/release/bokeh-gl-0.12.13.min.js\"];\n\n  var inline_js = [\n    function(Bokeh) {\n      Bokeh.set_log_level(\"info\");\n    },\n    \n    function(Bokeh) {\n      \n    },\n    function(Bokeh) {\n      console.log(\"Bokeh: injecting CSS: https://cdn.pydata.org/bokeh/release/bokeh-0.12.13.min.css\");\n      Bokeh.embed.inject_css(\"https://cdn.pydata.org/bokeh/release/bokeh-0.12.13.min.css\");\n      console.log(\"Bokeh: injecting CSS: https://cdn.pydata.org/bokeh/release/bokeh-widgets-0.12.13.min.css\");\n      Bokeh.embed.inject_css(\"https://cdn.pydata.org/bokeh/release/bokeh-widgets-0.12.13.min.css\");\n      console.log(\"Bokeh: injecting CSS: https://cdn.pydata.org/bokeh/release/bokeh-tables-0.12.13.min.css\");\n      Bokeh.embed.inject_css(\"https://cdn.pydata.org/bokeh/release/bokeh-tables-0.12.13.min.css\");\n    }\n  ];\n\n  function run_inline_js() {\n    \n    if ((root.Bokeh !== undefined) || (force === true)) {\n      for (var i = 0; i < inline_js.length; i++) {\n        inline_js[i].call(root, root.Bokeh);\n      }if (force === true) {\n        display_loaded();\n      }} else if (Date.now() < root._bokeh_timeout) {\n      setTimeout(run_inline_js, 100);\n    } else if (!root._bokeh_failed_load) {\n      console.log(\"Bokeh: BokehJS failed to load within specified timeout.\");\n      root._bokeh_failed_load = true;\n    } else if (force !== true) {\n      var cell = $(document.getElementById(\"97468819-ccdd-466d-b66f-0276ad3c3206\")).parents('.cell').data().cell;\n      cell.output_area.append_execute_result(NB_LOAD_WARNING)\n    }\n\n  }\n\n  if (root._bokeh_is_loading === 0) {\n    console.log(\"Bokeh: BokehJS loaded, going straight to plotting\");\n    run_inline_js();\n  } else {\n    load_libs(js_urls, function() {\n      console.log(\"Bokeh: BokehJS plotting callback run at\", now());\n      run_inline_js();\n    });\n  }\n}(window));"
     },
     "metadata": {},
     "output_type": "display_data"
    }
   ],
   "source": [
    "output_notebook()"
   ]
  },
  {
   "cell_type": "markdown",
   "metadata": {},
   "source": [
    "# Some Basic Scatter Plots\n",
    "\n",
    "In this section you will see how to use Bokeh's various marker types to create simple scatter plots. "
   ]
  },
  {
   "cell_type": "code",
   "execution_count": 3,
   "metadata": {},
   "outputs": [
    {
     "data": {
      "text/html": [
       "\n",
       "<div class=\"bk-root\">\n",
       "    <div class=\"bk-plotdiv\" id=\"5a08e432-a4f1-48bf-98c6-61b9bdab6737\"></div>\n",
       "</div>"
      ]
     },
     "metadata": {},
     "output_type": "display_data"
    },
    {
     "data": {
      "application/javascript": [
       "(function(root) {\n",
       "  function embed_document(root) {\n",
       "    \n",
       "  var docs_json = {\"d5c00df3-47ee-4091-a183-d86606d5a874\":{\"roots\":{\"references\":[{\"attributes\":{\"callback\":null},\"id\":\"e70b2571-cf7b-42bf-8bfb-6a02788f853e\",\"type\":\"DataRange1d\"},{\"attributes\":{\"source\":{\"id\":\"658d033b-b793-4aa5-8a84-ac5b0a69fb97\",\"type\":\"ColumnDataSource\"}},\"id\":\"9010b234-c3e3-4061-8daf-69c6d3e8e3c0\",\"type\":\"CDSView\"},{\"attributes\":{},\"id\":\"222292fd-6241-47ff-8e24-aa21f2c553f9\",\"type\":\"PanTool\"},{\"attributes\":{},\"id\":\"a98e8c6c-b5cd-457e-bd0a-4d7d31665ddc\",\"type\":\"LinearScale\"},{\"attributes\":{\"bottom_units\":\"screen\",\"fill_alpha\":{\"value\":0.5},\"fill_color\":{\"value\":\"lightgrey\"},\"left_units\":\"screen\",\"level\":\"overlay\",\"line_alpha\":{\"value\":1.0},\"line_color\":{\"value\":\"black\"},\"line_dash\":[4,4],\"line_width\":{\"value\":2},\"plot\":null,\"render_mode\":\"css\",\"right_units\":\"screen\",\"top_units\":\"screen\"},\"id\":\"717365ca-28db-4da1-ba7a-342a393dd6c7\",\"type\":\"BoxAnnotation\"},{\"attributes\":{},\"id\":\"1516b7ed-39a8-4038-a110-437cdc3750d7\",\"type\":\"LinearScale\"},{\"attributes\":{},\"id\":\"d89a4cf2-780d-4a7c-aaa9-e394eb77b0dc\",\"type\":\"WheelZoomTool\"},{\"attributes\":{\"overlay\":{\"id\":\"717365ca-28db-4da1-ba7a-342a393dd6c7\",\"type\":\"BoxAnnotation\"}},\"id\":\"84d374ec-3b38-44cf-a408-c6957929bd38\",\"type\":\"BoxZoomTool\"},{\"attributes\":{\"formatter\":{\"id\":\"44e7e212-cff3-461b-85ea-6988517ab922\",\"type\":\"BasicTickFormatter\"},\"plot\":{\"id\":\"a2b6db93-bb54-46bc-8feb-015c829fb05c\",\"subtype\":\"Figure\",\"type\":\"Plot\"},\"ticker\":{\"id\":\"08be30c3-13ee-4825-8121-75799ca93213\",\"type\":\"BasicTicker\"}},\"id\":\"01a4a738-08f0-4c10-9579-1962c6070915\",\"type\":\"LinearAxis\"},{\"attributes\":{},\"id\":\"c288ddc1-83d2-4a81-98ff-8fad28b21ad2\",\"type\":\"SaveTool\"},{\"attributes\":{},\"id\":\"08be30c3-13ee-4825-8121-75799ca93213\",\"type\":\"BasicTicker\"},{\"attributes\":{},\"id\":\"44e7e212-cff3-461b-85ea-6988517ab922\",\"type\":\"BasicTickFormatter\"},{\"attributes\":{},\"id\":\"9d567a2f-df99-463f-9321-afab9d87c5f8\",\"type\":\"ResetTool\"},{\"attributes\":{\"plot\":{\"id\":\"a2b6db93-bb54-46bc-8feb-015c829fb05c\",\"subtype\":\"Figure\",\"type\":\"Plot\"},\"ticker\":{\"id\":\"08be30c3-13ee-4825-8121-75799ca93213\",\"type\":\"BasicTicker\"}},\"id\":\"6c6b57ca-dcf9-461d-a0ee-03af2b46bc4d\",\"type\":\"Grid\"},{\"attributes\":{},\"id\":\"bffe53ef-24bb-454e-ac63-9ab255091e84\",\"type\":\"HelpTool\"},{\"attributes\":{\"formatter\":{\"id\":\"2a794f7f-1dca-43a9-ae5a-902b177f2573\",\"type\":\"BasicTickFormatter\"},\"plot\":{\"id\":\"a2b6db93-bb54-46bc-8feb-015c829fb05c\",\"subtype\":\"Figure\",\"type\":\"Plot\"},\"ticker\":{\"id\":\"5495fac8-ce98-4c49-9628-ef8c3eff1cb8\",\"type\":\"BasicTicker\"}},\"id\":\"e8bc3dbb-4a37-4d24-9d29-8a0051484ed6\",\"type\":\"LinearAxis\"},{\"attributes\":{\"fill_alpha\":{\"value\":0.1},\"fill_color\":{\"value\":\"#1f77b4\"},\"line_alpha\":{\"value\":0.1},\"line_color\":{\"value\":\"#1f77b4\"},\"size\":{\"units\":\"screen\",\"value\":15},\"x\":{\"field\":\"x\"},\"y\":{\"field\":\"y\"}},\"id\":\"188edbc1-bb8d-4694-93a1-87131d47011d\",\"type\":\"Circle\"},{\"attributes\":{\"plot\":null,\"text\":\"\"},\"id\":\"8fa1a41e-a496-4491-bade-e859cebb6b46\",\"type\":\"Title\"},{\"attributes\":{},\"id\":\"2a794f7f-1dca-43a9-ae5a-902b177f2573\",\"type\":\"BasicTickFormatter\"},{\"attributes\":{},\"id\":\"5495fac8-ce98-4c49-9628-ef8c3eff1cb8\",\"type\":\"BasicTicker\"},{\"attributes\":{\"below\":[{\"id\":\"01a4a738-08f0-4c10-9579-1962c6070915\",\"type\":\"LinearAxis\"}],\"left\":[{\"id\":\"e8bc3dbb-4a37-4d24-9d29-8a0051484ed6\",\"type\":\"LinearAxis\"}],\"plot_height\":400,\"plot_width\":400,\"renderers\":[{\"id\":\"01a4a738-08f0-4c10-9579-1962c6070915\",\"type\":\"LinearAxis\"},{\"id\":\"6c6b57ca-dcf9-461d-a0ee-03af2b46bc4d\",\"type\":\"Grid\"},{\"id\":\"e8bc3dbb-4a37-4d24-9d29-8a0051484ed6\",\"type\":\"LinearAxis\"},{\"id\":\"e99a92f4-ef7c-42b6-8c2b-9e25d624173d\",\"type\":\"Grid\"},{\"id\":\"717365ca-28db-4da1-ba7a-342a393dd6c7\",\"type\":\"BoxAnnotation\"},{\"id\":\"a822052a-f60d-498e-9259-1de816f30302\",\"type\":\"GlyphRenderer\"}],\"title\":{\"id\":\"8fa1a41e-a496-4491-bade-e859cebb6b46\",\"type\":\"Title\"},\"toolbar\":{\"id\":\"7bc5349b-ac9c-4ebf-bd15-11fd275f9d12\",\"type\":\"Toolbar\"},\"x_range\":{\"id\":\"ed9d8a57-093d-41a9-8bd8-72e92eb6ecba\",\"type\":\"DataRange1d\"},\"x_scale\":{\"id\":\"a98e8c6c-b5cd-457e-bd0a-4d7d31665ddc\",\"type\":\"LinearScale\"},\"y_range\":{\"id\":\"e70b2571-cf7b-42bf-8bfb-6a02788f853e\",\"type\":\"DataRange1d\"},\"y_scale\":{\"id\":\"1516b7ed-39a8-4038-a110-437cdc3750d7\",\"type\":\"LinearScale\"}},\"id\":\"a2b6db93-bb54-46bc-8feb-015c829fb05c\",\"subtype\":\"Figure\",\"type\":\"Plot\"},{\"attributes\":{\"dimension\":1,\"plot\":{\"id\":\"a2b6db93-bb54-46bc-8feb-015c829fb05c\",\"subtype\":\"Figure\",\"type\":\"Plot\"},\"ticker\":{\"id\":\"5495fac8-ce98-4c49-9628-ef8c3eff1cb8\",\"type\":\"BasicTicker\"}},\"id\":\"e99a92f4-ef7c-42b6-8c2b-9e25d624173d\",\"type\":\"Grid\"},{\"attributes\":{\"callback\":null,\"column_names\":[\"x\",\"y\"],\"data\":{\"x\":[1,2,3,4,5],\"y\":[6,7,2,4,5]}},\"id\":\"658d033b-b793-4aa5-8a84-ac5b0a69fb97\",\"type\":\"ColumnDataSource\"},{\"attributes\":{\"fill_alpha\":{\"value\":0.5},\"fill_color\":{\"value\":\"orange\"},\"line_color\":{\"value\":\"navy\"},\"size\":{\"units\":\"screen\",\"value\":15},\"x\":{\"field\":\"x\"},\"y\":{\"field\":\"y\"}},\"id\":\"72f26971-b16c-447c-bbca-db2efe3e850c\",\"type\":\"Circle\"},{\"attributes\":{\"active_drag\":\"auto\",\"active_inspect\":\"auto\",\"active_scroll\":\"auto\",\"active_tap\":\"auto\",\"tools\":[{\"id\":\"222292fd-6241-47ff-8e24-aa21f2c553f9\",\"type\":\"PanTool\"},{\"id\":\"d89a4cf2-780d-4a7c-aaa9-e394eb77b0dc\",\"type\":\"WheelZoomTool\"},{\"id\":\"84d374ec-3b38-44cf-a408-c6957929bd38\",\"type\":\"BoxZoomTool\"},{\"id\":\"c288ddc1-83d2-4a81-98ff-8fad28b21ad2\",\"type\":\"SaveTool\"},{\"id\":\"9d567a2f-df99-463f-9321-afab9d87c5f8\",\"type\":\"ResetTool\"},{\"id\":\"bffe53ef-24bb-454e-ac63-9ab255091e84\",\"type\":\"HelpTool\"}]},\"id\":\"7bc5349b-ac9c-4ebf-bd15-11fd275f9d12\",\"type\":\"Toolbar\"},{\"attributes\":{\"data_source\":{\"id\":\"658d033b-b793-4aa5-8a84-ac5b0a69fb97\",\"type\":\"ColumnDataSource\"},\"glyph\":{\"id\":\"72f26971-b16c-447c-bbca-db2efe3e850c\",\"type\":\"Circle\"},\"hover_glyph\":null,\"muted_glyph\":null,\"nonselection_glyph\":{\"id\":\"188edbc1-bb8d-4694-93a1-87131d47011d\",\"type\":\"Circle\"},\"selection_glyph\":null,\"view\":{\"id\":\"9010b234-c3e3-4061-8daf-69c6d3e8e3c0\",\"type\":\"CDSView\"}},\"id\":\"a822052a-f60d-498e-9259-1de816f30302\",\"type\":\"GlyphRenderer\"},{\"attributes\":{\"callback\":null},\"id\":\"ed9d8a57-093d-41a9-8bd8-72e92eb6ecba\",\"type\":\"DataRange1d\"}],\"root_ids\":[\"a2b6db93-bb54-46bc-8feb-015c829fb05c\"]},\"title\":\"Bokeh Application\",\"version\":\"0.12.13\"}};\n",
       "  var render_items = [{\"docid\":\"d5c00df3-47ee-4091-a183-d86606d5a874\",\"elementid\":\"5a08e432-a4f1-48bf-98c6-61b9bdab6737\",\"modelid\":\"a2b6db93-bb54-46bc-8feb-015c829fb05c\"}];\n",
       "  root.Bokeh.embed.embed_items_notebook(docs_json, render_items);\n",
       "\n",
       "  }\n",
       "  if (root.Bokeh !== undefined) {\n",
       "    embed_document(root);\n",
       "  } else {\n",
       "    var attempts = 0;\n",
       "    var timer = setInterval(function(root) {\n",
       "      if (root.Bokeh !== undefined) {\n",
       "        embed_document(root);\n",
       "        clearInterval(timer);\n",
       "      }\n",
       "      attempts++;\n",
       "      if (attempts > 100) {\n",
       "        console.log(\"Bokeh: ERROR: Unable to run BokehJS code because BokehJS library is missing\")\n",
       "        clearInterval(timer);\n",
       "      }\n",
       "    }, 10, root)\n",
       "  }\n",
       "})(window);"
      ],
      "application/vnd.bokehjs_exec.v0+json": ""
     },
     "metadata": {
      "application/vnd.bokehjs_exec.v0+json": {
       "id": "a2b6db93-bb54-46bc-8feb-015c829fb05c"
      }
     },
     "output_type": "display_data"
    }
   ],
   "source": [
    "# create a new plot with default tools, using figure\n",
    "p = figure(plot_width=400, plot_height=400)\n",
    "\n",
    "# add a circle renderer with a size, color, and alpha\n",
    "p.circle([1, 2, 3, 4, 5], [6, 7, 2, 4, 5], size=15, line_color=\"navy\", fill_color=\"orange\", fill_alpha=0.5)\n",
    "\n",
    "show(p) # show the results"
   ]
  },
  {
   "cell_type": "markdown",
   "metadata": {},
   "source": [
    "All Bokeh markers accept `size` (measured in screen space units) as a property. Circles also have `radius` (measured in \"data\" space units). "
   ]
  },
  {
   "cell_type": "code",
   "execution_count": 4,
   "metadata": {},
   "outputs": [
    {
     "data": {
      "text/html": [
       "\n",
       "<div class=\"bk-root\">\n",
       "    <div class=\"bk-plotdiv\" id=\"43529a77-7b77-4521-af2a-98277dbc8d2d\"></div>\n",
       "</div>"
      ]
     },
     "metadata": {},
     "output_type": "display_data"
    },
    {
     "data": {
      "application/javascript": [
       "(function(root) {\n",
       "  function embed_document(root) {\n",
       "    \n",
       "  var docs_json = {\"b3102f14-a193-48ca-be60-18daf3c4535e\":{\"roots\":{\"references\":[{\"attributes\":{\"data_source\":{\"id\":\"097cdfdf-4f8b-4bcd-bf07-947abae5b75c\",\"type\":\"ColumnDataSource\"},\"glyph\":{\"id\":\"02e37be3-2d44-4030-9bc9-70f4468b4a40\",\"type\":\"Circle\"},\"hover_glyph\":null,\"muted_glyph\":null,\"nonselection_glyph\":{\"id\":\"2d6a0166-a9ff-40dc-a651-51fdfcc97ca0\",\"type\":\"Circle\"},\"selection_glyph\":null,\"view\":{\"id\":\"290be4aa-9b69-4106-ac4a-05d5d19967f6\",\"type\":\"CDSView\"}},\"id\":\"79119aab-0ca3-49f9-94d2-fac3f673d3f4\",\"type\":\"GlyphRenderer\"},{\"attributes\":{},\"id\":\"a26b1f92-98b2-4777-b60d-5c15b5c5867a\",\"type\":\"LinearScale\"},{\"attributes\":{\"dimension\":1,\"plot\":{\"id\":\"26bb27c7-8381-48fa-8237-1c7ab9cd1dd2\",\"subtype\":\"Figure\",\"type\":\"Plot\"},\"ticker\":{\"id\":\"d3b12242-91be-4619-8cda-3e79859271ec\",\"type\":\"BasicTicker\"}},\"id\":\"0c7b026d-5b57-44d0-90a0-96bc5a02534e\",\"type\":\"Grid\"},{\"attributes\":{},\"id\":\"3c6b31dd-68e7-4837-b4dc-5daaf10e03d4\",\"type\":\"LinearScale\"},{\"attributes\":{},\"id\":\"642237ab-cab9-4ccc-9eea-fa4ae089e8b9\",\"type\":\"BasicTickFormatter\"},{\"attributes\":{\"formatter\":{\"id\":\"642237ab-cab9-4ccc-9eea-fa4ae089e8b9\",\"type\":\"BasicTickFormatter\"},\"plot\":{\"id\":\"26bb27c7-8381-48fa-8237-1c7ab9cd1dd2\",\"subtype\":\"Figure\",\"type\":\"Plot\"},\"ticker\":{\"id\":\"e412bf1d-beb3-4b28-840b-244bdf6ee70a\",\"type\":\"BasicTicker\"}},\"id\":\"81b30052-a6a8-4e19-a577-ad08e0b3480a\",\"type\":\"LinearAxis\"},{\"attributes\":{\"callback\":null},\"id\":\"7ce710cd-b34d-43ee-a8c7-52da8e63370d\",\"type\":\"DataRange1d\"},{\"attributes\":{},\"id\":\"dd3cddb9-c0d7-45be-beae-094f634e30c1\",\"type\":\"BasicTickFormatter\"},{\"attributes\":{},\"id\":\"88d033ec-fc0a-49ff-b3a4-4e903b0be356\",\"type\":\"HelpTool\"},{\"attributes\":{},\"id\":\"d3b12242-91be-4619-8cda-3e79859271ec\",\"type\":\"BasicTicker\"},{\"attributes\":{\"formatter\":{\"id\":\"dd3cddb9-c0d7-45be-beae-094f634e30c1\",\"type\":\"BasicTickFormatter\"},\"plot\":{\"id\":\"26bb27c7-8381-48fa-8237-1c7ab9cd1dd2\",\"subtype\":\"Figure\",\"type\":\"Plot\"},\"ticker\":{\"id\":\"d3b12242-91be-4619-8cda-3e79859271ec\",\"type\":\"BasicTicker\"}},\"id\":\"21c07c72-a3ad-46af-b0fc-465256c09cdb\",\"type\":\"LinearAxis\"},{\"attributes\":{\"fill_alpha\":{\"value\":0.5},\"fill_color\":{\"value\":\"orange\"},\"line_color\":{\"value\":\"navy\"},\"radius\":{\"units\":\"data\",\"value\":0.1},\"x\":{\"field\":\"x\"},\"y\":{\"field\":\"y\"}},\"id\":\"02e37be3-2d44-4030-9bc9-70f4468b4a40\",\"type\":\"Circle\"},{\"attributes\":{\"active_drag\":\"auto\",\"active_inspect\":\"auto\",\"active_scroll\":\"auto\",\"active_tap\":\"auto\",\"tools\":[{\"id\":\"86f8bffb-6af7-4248-8aaa-dc15bf96dac9\",\"type\":\"PanTool\"},{\"id\":\"acd4d33f-7d83-42b9-ac3e-cd228d8e59d3\",\"type\":\"WheelZoomTool\"},{\"id\":\"cd1b75cd-58fe-4ea9-a1f5-cde24d7cf3ee\",\"type\":\"BoxZoomTool\"},{\"id\":\"bd5f69b4-6785-4b93-be34-e673a9078160\",\"type\":\"SaveTool\"},{\"id\":\"891b73e9-a565-4593-b554-ffaa7564c1d8\",\"type\":\"ResetTool\"},{\"id\":\"88d033ec-fc0a-49ff-b3a4-4e903b0be356\",\"type\":\"HelpTool\"}]},\"id\":\"c52e6a70-55a1-417c-a426-dbf6b53771fd\",\"type\":\"Toolbar\"},{\"attributes\":{\"source\":{\"id\":\"097cdfdf-4f8b-4bcd-bf07-947abae5b75c\",\"type\":\"ColumnDataSource\"}},\"id\":\"290be4aa-9b69-4106-ac4a-05d5d19967f6\",\"type\":\"CDSView\"},{\"attributes\":{},\"id\":\"bd5f69b4-6785-4b93-be34-e673a9078160\",\"type\":\"SaveTool\"},{\"attributes\":{\"callback\":null,\"column_names\":[\"x\",\"y\"],\"data\":{\"x\":[1,2,3,4,5],\"y\":[6,7,2,4,5]}},\"id\":\"097cdfdf-4f8b-4bcd-bf07-947abae5b75c\",\"type\":\"ColumnDataSource\"},{\"attributes\":{},\"id\":\"891b73e9-a565-4593-b554-ffaa7564c1d8\",\"type\":\"ResetTool\"},{\"attributes\":{\"below\":[{\"id\":\"81b30052-a6a8-4e19-a577-ad08e0b3480a\",\"type\":\"LinearAxis\"}],\"left\":[{\"id\":\"21c07c72-a3ad-46af-b0fc-465256c09cdb\",\"type\":\"LinearAxis\"}],\"plot_height\":400,\"plot_width\":400,\"renderers\":[{\"id\":\"81b30052-a6a8-4e19-a577-ad08e0b3480a\",\"type\":\"LinearAxis\"},{\"id\":\"11150dc8-83ca-4215-824a-80be2f783515\",\"type\":\"Grid\"},{\"id\":\"21c07c72-a3ad-46af-b0fc-465256c09cdb\",\"type\":\"LinearAxis\"},{\"id\":\"0c7b026d-5b57-44d0-90a0-96bc5a02534e\",\"type\":\"Grid\"},{\"id\":\"6affdfaf-583b-49d0-8cdb-1c83ac8580a5\",\"type\":\"BoxAnnotation\"},{\"id\":\"79119aab-0ca3-49f9-94d2-fac3f673d3f4\",\"type\":\"GlyphRenderer\"}],\"title\":{\"id\":\"839f2648-f337-45a8-9bdf-bf804174ed36\",\"type\":\"Title\"},\"toolbar\":{\"id\":\"c52e6a70-55a1-417c-a426-dbf6b53771fd\",\"type\":\"Toolbar\"},\"x_range\":{\"id\":\"a6dc90b8-0ad7-433a-8e24-53ee5e3f9cdf\",\"type\":\"DataRange1d\"},\"x_scale\":{\"id\":\"3c6b31dd-68e7-4837-b4dc-5daaf10e03d4\",\"type\":\"LinearScale\"},\"y_range\":{\"id\":\"7ce710cd-b34d-43ee-a8c7-52da8e63370d\",\"type\":\"DataRange1d\"},\"y_scale\":{\"id\":\"a26b1f92-98b2-4777-b60d-5c15b5c5867a\",\"type\":\"LinearScale\"}},\"id\":\"26bb27c7-8381-48fa-8237-1c7ab9cd1dd2\",\"subtype\":\"Figure\",\"type\":\"Plot\"},{\"attributes\":{\"fill_alpha\":{\"value\":0.1},\"fill_color\":{\"value\":\"#1f77b4\"},\"line_alpha\":{\"value\":0.1},\"line_color\":{\"value\":\"#1f77b4\"},\"radius\":{\"units\":\"data\",\"value\":0.1},\"x\":{\"field\":\"x\"},\"y\":{\"field\":\"y\"}},\"id\":\"2d6a0166-a9ff-40dc-a651-51fdfcc97ca0\",\"type\":\"Circle\"},{\"attributes\":{\"overlay\":{\"id\":\"6affdfaf-583b-49d0-8cdb-1c83ac8580a5\",\"type\":\"BoxAnnotation\"}},\"id\":\"cd1b75cd-58fe-4ea9-a1f5-cde24d7cf3ee\",\"type\":\"BoxZoomTool\"},{\"attributes\":{},\"id\":\"acd4d33f-7d83-42b9-ac3e-cd228d8e59d3\",\"type\":\"WheelZoomTool\"},{\"attributes\":{\"callback\":null},\"id\":\"a6dc90b8-0ad7-433a-8e24-53ee5e3f9cdf\",\"type\":\"DataRange1d\"},{\"attributes\":{\"plot\":null,\"text\":\"\"},\"id\":\"839f2648-f337-45a8-9bdf-bf804174ed36\",\"type\":\"Title\"},{\"attributes\":{},\"id\":\"86f8bffb-6af7-4248-8aaa-dc15bf96dac9\",\"type\":\"PanTool\"},{\"attributes\":{},\"id\":\"e412bf1d-beb3-4b28-840b-244bdf6ee70a\",\"type\":\"BasicTicker\"},{\"attributes\":{\"bottom_units\":\"screen\",\"fill_alpha\":{\"value\":0.5},\"fill_color\":{\"value\":\"lightgrey\"},\"left_units\":\"screen\",\"level\":\"overlay\",\"line_alpha\":{\"value\":1.0},\"line_color\":{\"value\":\"black\"},\"line_dash\":[4,4],\"line_width\":{\"value\":2},\"plot\":null,\"render_mode\":\"css\",\"right_units\":\"screen\",\"top_units\":\"screen\"},\"id\":\"6affdfaf-583b-49d0-8cdb-1c83ac8580a5\",\"type\":\"BoxAnnotation\"},{\"attributes\":{\"plot\":{\"id\":\"26bb27c7-8381-48fa-8237-1c7ab9cd1dd2\",\"subtype\":\"Figure\",\"type\":\"Plot\"},\"ticker\":{\"id\":\"e412bf1d-beb3-4b28-840b-244bdf6ee70a\",\"type\":\"BasicTicker\"}},\"id\":\"11150dc8-83ca-4215-824a-80be2f783515\",\"type\":\"Grid\"}],\"root_ids\":[\"26bb27c7-8381-48fa-8237-1c7ab9cd1dd2\"]},\"title\":\"Bokeh Application\",\"version\":\"0.12.13\"}};\n",
       "  var render_items = [{\"docid\":\"b3102f14-a193-48ca-be60-18daf3c4535e\",\"elementid\":\"43529a77-7b77-4521-af2a-98277dbc8d2d\",\"modelid\":\"26bb27c7-8381-48fa-8237-1c7ab9cd1dd2\"}];\n",
       "  root.Bokeh.embed.embed_items_notebook(docs_json, render_items);\n",
       "\n",
       "  }\n",
       "  if (root.Bokeh !== undefined) {\n",
       "    embed_document(root);\n",
       "  } else {\n",
       "    var attempts = 0;\n",
       "    var timer = setInterval(function(root) {\n",
       "      if (root.Bokeh !== undefined) {\n",
       "        embed_document(root);\n",
       "        clearInterval(timer);\n",
       "      }\n",
       "      attempts++;\n",
       "      if (attempts > 100) {\n",
       "        console.log(\"Bokeh: ERROR: Unable to run BokehJS code because BokehJS library is missing\")\n",
       "        clearInterval(timer);\n",
       "      }\n",
       "    }, 10, root)\n",
       "  }\n",
       "})(window);"
      ],
      "application/vnd.bokehjs_exec.v0+json": ""
     },
     "metadata": {
      "application/vnd.bokehjs_exec.v0+json": {
       "id": "26bb27c7-8381-48fa-8237-1c7ab9cd1dd2"
      }
     },
     "output_type": "display_data"
    }
   ],
   "source": [
    "# EXERCISE: Try changing the example above to set a `radius` value instead of `size`\n",
    "# create a new plot with default tools, using figure\n",
    "p = figure(plot_width=400, plot_height=400)\n",
    "\n",
    "# add a circle renderer with a radius, color, and alpha\n",
    "p.circle([1, 2, 3, 4, 5], [6, 7, 2, 4, 5], radius=0.1, line_color=\"navy\", fill_color=\"orange\", fill_alpha=0.5)\n",
    "\n",
    "show(p) # show the results"
   ]
  },
  {
   "cell_type": "markdown",
   "metadata": {},
   "source": [
    "To scatter square markers instead of circles, you can use the `square` method on figures. "
   ]
  },
  {
   "cell_type": "code",
   "execution_count": 5,
   "metadata": {},
   "outputs": [
    {
     "data": {
      "text/html": [
       "\n",
       "<div class=\"bk-root\">\n",
       "    <div class=\"bk-plotdiv\" id=\"2b6350e3-858e-437c-ae4a-0410464da4cc\"></div>\n",
       "</div>"
      ]
     },
     "metadata": {},
     "output_type": "display_data"
    },
    {
     "data": {
      "application/javascript": [
       "(function(root) {\n",
       "  function embed_document(root) {\n",
       "    \n",
       "  var docs_json = {\"3781f3f4-3105-42aa-8899-f3fe30f20a62\":{\"roots\":{\"references\":[{\"attributes\":{},\"id\":\"bff03b3a-f009-4a42-8647-60f1ffa73934\",\"type\":\"BasicTickFormatter\"},{\"attributes\":{},\"id\":\"e5004e09-4099-4d99-8289-033071042f7f\",\"type\":\"LinearScale\"},{\"attributes\":{},\"id\":\"ce36ff23-dcd0-4287-8b8a-2437dd8767e7\",\"type\":\"LinearScale\"},{\"attributes\":{\"dimension\":1,\"plot\":{\"id\":\"970d9d85-b62a-497b-bff0-753738f88767\",\"subtype\":\"Figure\",\"type\":\"Plot\"},\"ticker\":{\"id\":\"a15602a9-cb54-473d-8723-dc091859699b\",\"type\":\"BasicTicker\"}},\"id\":\"4ddc9b3f-b2e0-45b3-a10d-24efe0607f97\",\"type\":\"Grid\"},{\"attributes\":{},\"id\":\"1ee520dd-0c39-432c-9533-800b2635fa64\",\"type\":\"BasicTicker\"},{\"attributes\":{\"formatter\":{\"id\":\"259299cd-32fa-4cc4-a382-d67a4d3f15d3\",\"type\":\"BasicTickFormatter\"},\"plot\":{\"id\":\"970d9d85-b62a-497b-bff0-753738f88767\",\"subtype\":\"Figure\",\"type\":\"Plot\"},\"ticker\":{\"id\":\"a15602a9-cb54-473d-8723-dc091859699b\",\"type\":\"BasicTicker\"}},\"id\":\"f63620cb-f2eb-4556-83c0-2b43256e2676\",\"type\":\"LinearAxis\"},{\"attributes\":{\"callback\":null},\"id\":\"6890b26f-bd5f-4b95-9575-21bad5f74975\",\"type\":\"DataRange1d\"},{\"attributes\":{},\"id\":\"1bfcd180-0f49-434c-9d6a-f75707958484\",\"type\":\"SaveTool\"},{\"attributes\":{\"plot\":null,\"text\":\"\"},\"id\":\"143d11a8-cd36-4b5f-a50e-07f5607148d1\",\"type\":\"Title\"},{\"attributes\":{},\"id\":\"a15602a9-cb54-473d-8723-dc091859699b\",\"type\":\"BasicTicker\"},{\"attributes\":{},\"id\":\"259299cd-32fa-4cc4-a382-d67a4d3f15d3\",\"type\":\"BasicTickFormatter\"},{\"attributes\":{\"active_drag\":\"auto\",\"active_inspect\":\"auto\",\"active_scroll\":\"auto\",\"active_tap\":\"auto\",\"tools\":[{\"id\":\"fdf3143c-af4f-4ca1-b405-16a3a6bdcde6\",\"type\":\"PanTool\"},{\"id\":\"f5ae9cbb-1220-4479-884b-1c8070e0cae5\",\"type\":\"WheelZoomTool\"},{\"id\":\"2d1739d9-6671-4706-82be-d37d16d7e2fe\",\"type\":\"BoxZoomTool\"},{\"id\":\"1bfcd180-0f49-434c-9d6a-f75707958484\",\"type\":\"SaveTool\"},{\"id\":\"ce4be901-2cc5-4784-9291-c836896c77eb\",\"type\":\"ResetTool\"},{\"id\":\"82ec281f-6ee2-4d99-a6c0-f3c8f8c0bc83\",\"type\":\"HelpTool\"}]},\"id\":\"f9d51920-e116-45f8-9e85-e9751161d865\",\"type\":\"Toolbar\"},{\"attributes\":{\"below\":[{\"id\":\"49914fb5-33a1-4d67-8f6c-fb64e695ab34\",\"type\":\"LinearAxis\"}],\"left\":[{\"id\":\"f63620cb-f2eb-4556-83c0-2b43256e2676\",\"type\":\"LinearAxis\"}],\"plot_height\":400,\"plot_width\":400,\"renderers\":[{\"id\":\"49914fb5-33a1-4d67-8f6c-fb64e695ab34\",\"type\":\"LinearAxis\"},{\"id\":\"f7b7df31-34bd-4203-94f6-c9c8f0542b11\",\"type\":\"Grid\"},{\"id\":\"f63620cb-f2eb-4556-83c0-2b43256e2676\",\"type\":\"LinearAxis\"},{\"id\":\"4ddc9b3f-b2e0-45b3-a10d-24efe0607f97\",\"type\":\"Grid\"},{\"id\":\"2b6e38b0-424b-4723-862d-6362e491940e\",\"type\":\"BoxAnnotation\"},{\"id\":\"ed5c4c5c-3ea3-4118-ae17-498e34bd0924\",\"type\":\"GlyphRenderer\"}],\"title\":{\"id\":\"143d11a8-cd36-4b5f-a50e-07f5607148d1\",\"type\":\"Title\"},\"toolbar\":{\"id\":\"f9d51920-e116-45f8-9e85-e9751161d865\",\"type\":\"Toolbar\"},\"x_range\":{\"id\":\"0f7d3148-55f9-46ee-8bde-afb5a0c8391f\",\"type\":\"DataRange1d\"},\"x_scale\":{\"id\":\"ce36ff23-dcd0-4287-8b8a-2437dd8767e7\",\"type\":\"LinearScale\"},\"y_range\":{\"id\":\"6890b26f-bd5f-4b95-9575-21bad5f74975\",\"type\":\"DataRange1d\"},\"y_scale\":{\"id\":\"e5004e09-4099-4d99-8289-033071042f7f\",\"type\":\"LinearScale\"}},\"id\":\"970d9d85-b62a-497b-bff0-753738f88767\",\"subtype\":\"Figure\",\"type\":\"Plot\"},{\"attributes\":{\"callback\":null},\"id\":\"0f7d3148-55f9-46ee-8bde-afb5a0c8391f\",\"type\":\"DataRange1d\"},{\"attributes\":{\"data_source\":{\"id\":\"6d71fcdd-3cbb-4e3b-bffd-d7fd55bc4db3\",\"type\":\"ColumnDataSource\"},\"glyph\":{\"id\":\"d179d0bf-b053-4da5-8f9d-bf6748a77c3e\",\"type\":\"Square\"},\"hover_glyph\":null,\"muted_glyph\":null,\"nonselection_glyph\":{\"id\":\"048fc363-b2f4-42d8-93e0-6836fb4a9a35\",\"type\":\"Square\"},\"selection_glyph\":null,\"view\":{\"id\":\"dce2186d-733b-499d-8e88-0540b689992f\",\"type\":\"CDSView\"}},\"id\":\"ed5c4c5c-3ea3-4118-ae17-498e34bd0924\",\"type\":\"GlyphRenderer\"},{\"attributes\":{},\"id\":\"ce4be901-2cc5-4784-9291-c836896c77eb\",\"type\":\"ResetTool\"},{\"attributes\":{\"fill_alpha\":{\"value\":0.6},\"fill_color\":{\"value\":\"firebrick\"},\"line_alpha\":{\"value\":0.6},\"line_color\":{\"value\":\"firebrick\"},\"size\":{\"field\":\"size\",\"units\":\"screen\"},\"x\":{\"field\":\"x\"},\"y\":{\"field\":\"y\"}},\"id\":\"d179d0bf-b053-4da5-8f9d-bf6748a77c3e\",\"type\":\"Square\"},{\"attributes\":{\"formatter\":{\"id\":\"bff03b3a-f009-4a42-8647-60f1ffa73934\",\"type\":\"BasicTickFormatter\"},\"plot\":{\"id\":\"970d9d85-b62a-497b-bff0-753738f88767\",\"subtype\":\"Figure\",\"type\":\"Plot\"},\"ticker\":{\"id\":\"1ee520dd-0c39-432c-9533-800b2635fa64\",\"type\":\"BasicTicker\"}},\"id\":\"49914fb5-33a1-4d67-8f6c-fb64e695ab34\",\"type\":\"LinearAxis\"},{\"attributes\":{\"overlay\":{\"id\":\"2b6e38b0-424b-4723-862d-6362e491940e\",\"type\":\"BoxAnnotation\"}},\"id\":\"2d1739d9-6671-4706-82be-d37d16d7e2fe\",\"type\":\"BoxZoomTool\"},{\"attributes\":{\"fill_alpha\":{\"value\":0.1},\"fill_color\":{\"value\":\"#1f77b4\"},\"line_alpha\":{\"value\":0.1},\"line_color\":{\"value\":\"#1f77b4\"},\"size\":{\"field\":\"size\",\"units\":\"screen\"},\"x\":{\"field\":\"x\"},\"y\":{\"field\":\"y\"}},\"id\":\"048fc363-b2f4-42d8-93e0-6836fb4a9a35\",\"type\":\"Square\"},{\"attributes\":{},\"id\":\"f5ae9cbb-1220-4479-884b-1c8070e0cae5\",\"type\":\"WheelZoomTool\"},{\"attributes\":{\"callback\":null,\"column_names\":[\"x\",\"y\",\"size\"],\"data\":{\"size\":[10,15,20,25,30],\"x\":[1,2,3,4,5],\"y\":[6,7,2,4,5]}},\"id\":\"6d71fcdd-3cbb-4e3b-bffd-d7fd55bc4db3\",\"type\":\"ColumnDataSource\"},{\"attributes\":{\"source\":{\"id\":\"6d71fcdd-3cbb-4e3b-bffd-d7fd55bc4db3\",\"type\":\"ColumnDataSource\"}},\"id\":\"dce2186d-733b-499d-8e88-0540b689992f\",\"type\":\"CDSView\"},{\"attributes\":{\"bottom_units\":\"screen\",\"fill_alpha\":{\"value\":0.5},\"fill_color\":{\"value\":\"lightgrey\"},\"left_units\":\"screen\",\"level\":\"overlay\",\"line_alpha\":{\"value\":1.0},\"line_color\":{\"value\":\"black\"},\"line_dash\":[4,4],\"line_width\":{\"value\":2},\"plot\":null,\"render_mode\":\"css\",\"right_units\":\"screen\",\"top_units\":\"screen\"},\"id\":\"2b6e38b0-424b-4723-862d-6362e491940e\",\"type\":\"BoxAnnotation\"},{\"attributes\":{},\"id\":\"fdf3143c-af4f-4ca1-b405-16a3a6bdcde6\",\"type\":\"PanTool\"},{\"attributes\":{\"plot\":{\"id\":\"970d9d85-b62a-497b-bff0-753738f88767\",\"subtype\":\"Figure\",\"type\":\"Plot\"},\"ticker\":{\"id\":\"1ee520dd-0c39-432c-9533-800b2635fa64\",\"type\":\"BasicTicker\"}},\"id\":\"f7b7df31-34bd-4203-94f6-c9c8f0542b11\",\"type\":\"Grid\"},{\"attributes\":{},\"id\":\"82ec281f-6ee2-4d99-a6c0-f3c8f8c0bc83\",\"type\":\"HelpTool\"}],\"root_ids\":[\"970d9d85-b62a-497b-bff0-753738f88767\"]},\"title\":\"Bokeh Application\",\"version\":\"0.12.13\"}};\n",
       "  var render_items = [{\"docid\":\"3781f3f4-3105-42aa-8899-f3fe30f20a62\",\"elementid\":\"2b6350e3-858e-437c-ae4a-0410464da4cc\",\"modelid\":\"970d9d85-b62a-497b-bff0-753738f88767\"}];\n",
       "  root.Bokeh.embed.embed_items_notebook(docs_json, render_items);\n",
       "\n",
       "  }\n",
       "  if (root.Bokeh !== undefined) {\n",
       "    embed_document(root);\n",
       "  } else {\n",
       "    var attempts = 0;\n",
       "    var timer = setInterval(function(root) {\n",
       "      if (root.Bokeh !== undefined) {\n",
       "        embed_document(root);\n",
       "        clearInterval(timer);\n",
       "      }\n",
       "      attempts++;\n",
       "      if (attempts > 100) {\n",
       "        console.log(\"Bokeh: ERROR: Unable to run BokehJS code because BokehJS library is missing\")\n",
       "        clearInterval(timer);\n",
       "      }\n",
       "    }, 10, root)\n",
       "  }\n",
       "})(window);"
      ],
      "application/vnd.bokehjs_exec.v0+json": ""
     },
     "metadata": {
      "application/vnd.bokehjs_exec.v0+json": {
       "id": "970d9d85-b62a-497b-bff0-753738f88767"
      }
     },
     "output_type": "display_data"
    }
   ],
   "source": [
    "# create a new plot using figure\n",
    "p = figure(plot_width=400, plot_height=400)\n",
    "\n",
    "# add a square renderer with a size, color, alpha, and sizes\n",
    "p.square([1, 2, 3, 4, 5], [6, 7, 2, 4, 5], size=[10, 15, 20, 25, 30], color=\"firebrick\", alpha=0.6)\n",
    "\n",
    "show(p) # show the results"
   ]
  },
  {
   "cell_type": "markdown",
   "metadata": {},
   "source": [
    "Note that in the example above, we are also specifying different sizes for each individual marker. ***In general, all of a glyph's properties can be \"vectorized\" in this fashion. ***  Also note that we have passed ``color`` as a shorthand to set both the line and fill colors easily at the same time. This is a convenience specific to ``bokeh.plotting``.\n",
    "\n",
    "</table><p>There are many marker types available in Bokeh, you can see details and\n",
    "example plots for all of them in the reference guide by clicking on entries in the list below:</p>\n",
    "<table class=\"hlist\" style=\"float:left\"><tr><td><ul>\n",
    "<li><a href=\"http://bokeh.pydata.org/en/latest/docs/reference/plotting.html#bokeh.plotting.Figure.asterisk\" title=\"bokeh.plotting.Figure.asterisk\"><code class=\"xref py py-func docutils literal\"><span class=\"pre\">asterisk()</span></code></a></li>\n",
    "<li><a href=\"http://bokeh.pydata.org/en/latest/docs/reference/plotting.html#bokeh.plotting.Figure.circle\" title=\"bokeh.plotting.Figure.circle\"><code class=\"xref py py-func docutils literal\"><span class=\"pre\">circle()</span></code></a></li>\n",
    "<li><a href=\"http://bokeh.pydata.org/en/latest/docs/reference/plotting.html#bokeh.plotting.Figure.circle_cross\" title=\"bokeh.plotting.Figure.circle_cross\"><code class=\"xref py py-func docutils literal\"><span class=\"pre\">circle_cross()</span></code></a></li>\n",
    "<li><a href=\"http://bokeh.pydata.org/en/latest/docs/reference/plotting.html#bokeh.plotting.Figure.circle_x\" title=\"bokeh.plotting.Figure.circle_x\"><code class=\"xref py py-func docutils literal\"><span class=\"pre\">circle_x()</span></code></a></li>\n",
    "<li><a href=\"http://bokeh.pydata.org/en/latest/docs/reference/plotting.html#bokeh.plotting.Figure.cross\" title=\"bokeh.plotting.Figure.cross\"><code class=\"xref py py-func docutils literal\"><span class=\"pre\">cross()</span></code></a></li>\n",
    "</ul>\n",
    "</td><td><ul>\n",
    "<li><a href=\"http://bokeh.pydata.org/en/latest/docs/reference/plotting.html#bokeh.plotting.Figure.diamond\" title=\"bokeh.plotting.Figure.diamond\"><code class=\"xref py py-func docutils literal\"><span class=\"pre\">diamond()</span></code></a></li>\n",
    "<li><a href=\"http://bokeh.pydata.org/en/latest/docs/reference/plotting.html#bokeh.plotting.Figure.diamond_cross\" title=\"bokeh.plotting.Figure.diamond_cross\"><code class=\"xref py py-func docutils literal\"><span class=\"pre\">diamond_cross()</span></code></a></li>\n",
    "<li><a href=\"http://bokeh.pydata.org/en/latest/docs/reference/plotting.html#bokeh.plotting.Figure.inverted_triangle\" title=\"bokeh.plotting.Figure.inverted_triangle\"><code class=\"xref py py-func docutils literal\"><span class=\"pre\">inverted_triangle()</span></code></a></li>\n",
    "<li><a href=\"http://bokeh.pydata.org/en/latest/docs/reference/plotting.html#bokeh.plotting.Figure.square\" title=\"bokeh.plotting.Figure.square\"><code class=\"xref py py-func docutils literal\"><span class=\"pre\">square()</span></code></a></li>\n",
    "</ul>\n",
    "</td><td><ul>\n",
    "<li><a href=\"http://bokeh.pydata.org/en/latest/docs/reference/plotting.html#bokeh.plotting.Figure.square_cross\" title=\"bokeh.plotting.Figure.square_cross\"><code class=\"xref py py-func docutils literal\"><span class=\"pre\">square_cross()</span></code></a></li>\n",
    "<li><a href=\"http://bokeh.pydata.org/en/latest/docs/reference/plotting.html#bokeh.plotting.Figure.square_x\" title=\"bokeh.plotting.Figure.square_x\"><code class=\"xref py py-func docutils literal\"><span class=\"pre\">square_x()</span></code></a></li>\n",
    "<li><a href=\"http://bokeh.pydata.org/en/latest/docs/reference/plotting.html#bokeh.plotting.Figure.triangle\" title=\"bokeh.plotting.Figure.triangle\"><code class=\"xref py py-func docutils literal\"><span class=\"pre\">triangle()</span></code></a></li>\n",
    "<li><a href=\"http://bokeh.pydata.org/en/latest/docs/reference/plotting.html#bokeh.plotting.Figure.x\" title=\"bokeh.plotting.Figure.x\"><code class=\"xref py py-func docutils literal\"><span class=\"pre\">x()</span></code></a></li>\n",
    "</ul>\n",
    "</td></tr></table>"
   ]
  },
  {
   "cell_type": "code",
   "execution_count": 6,
   "metadata": {},
   "outputs": [
    {
     "data": {
      "text/html": [
       "\n",
       "<div class=\"bk-root\">\n",
       "    <div class=\"bk-plotdiv\" id=\"63bebed7-c08a-4a50-bb49-eb744f9fdafb\"></div>\n",
       "</div>"
      ]
     },
     "metadata": {},
     "output_type": "display_data"
    },
    {
     "data": {
      "application/javascript": [
       "(function(root) {\n",
       "  function embed_document(root) {\n",
       "    \n",
       "  var docs_json = {\"f047a15a-bf39-4aad-8c94-2748cbcbceb3\":{\"roots\":{\"references\":[{\"attributes\":{},\"id\":\"acc67bbf-501e-4aae-b72e-98660026104a\",\"type\":\"BasicTickFormatter\"},{\"attributes\":{},\"id\":\"6da00ce9-57a1-4c28-b877-647a4bca9c6a\",\"type\":\"BasicTickFormatter\"},{\"attributes\":{},\"id\":\"ddf2b63f-bde5-4033-a012-3d3fd0ce0f99\",\"type\":\"BasicTicker\"},{\"attributes\":{\"dimension\":1,\"plot\":{\"id\":\"5905c6f2-8d45-484c-a1af-7d9c4ebe4d42\",\"subtype\":\"Figure\",\"type\":\"Plot\"},\"ticker\":{\"id\":\"ddf2b63f-bde5-4033-a012-3d3fd0ce0f99\",\"type\":\"BasicTicker\"}},\"id\":\"79197572-47ff-40a2-84ce-5c72b3365b82\",\"type\":\"Grid\"},{\"attributes\":{\"data_source\":{\"id\":\"e1c71465-f11d-432a-b2b4-af403d401d3a\",\"type\":\"ColumnDataSource\"},\"glyph\":{\"id\":\"f283029f-7d3a-4cd9-a39e-68c4fa62102a\",\"type\":\"InvertedTriangle\"},\"hover_glyph\":null,\"muted_glyph\":null,\"nonselection_glyph\":{\"id\":\"80f7c217-ba2a-4581-89b0-a85319ff6d90\",\"type\":\"InvertedTriangle\"},\"selection_glyph\":null,\"view\":{\"id\":\"7ad73b1f-2d6c-4605-b442-3f5a102bbe7e\",\"type\":\"CDSView\"}},\"id\":\"0605daee-fa55-4fff-a9ac-b0e90c87879f\",\"type\":\"GlyphRenderer\"},{\"attributes\":{\"callback\":null},\"id\":\"4bd2c6da-e0fe-4b0a-88ca-20998d79f4f4\",\"type\":\"DataRange1d\"},{\"attributes\":{\"fill_alpha\":{\"value\":0.1},\"fill_color\":{\"value\":\"#1f77b4\"},\"line_alpha\":{\"value\":0.1},\"line_color\":{\"value\":\"#1f77b4\"},\"size\":{\"field\":\"size\",\"units\":\"screen\"},\"x\":{\"field\":\"x\"},\"y\":{\"field\":\"y\"}},\"id\":\"80f7c217-ba2a-4581-89b0-a85319ff6d90\",\"type\":\"InvertedTriangle\"},{\"attributes\":{\"formatter\":{\"id\":\"6da00ce9-57a1-4c28-b877-647a4bca9c6a\",\"type\":\"BasicTickFormatter\"},\"plot\":{\"id\":\"5905c6f2-8d45-484c-a1af-7d9c4ebe4d42\",\"subtype\":\"Figure\",\"type\":\"Plot\"},\"ticker\":{\"id\":\"016f1d70-769e-43a7-93d8-1628697f9b4f\",\"type\":\"BasicTicker\"}},\"id\":\"b08aab24-d75c-40b4-a7d1-6abc49d4c1b7\",\"type\":\"LinearAxis\"},{\"attributes\":{\"fill_alpha\":{\"value\":0.6},\"fill_color\":{\"value\":\"firebrick\"},\"line_alpha\":{\"value\":0.6},\"line_color\":{\"value\":\"firebrick\"},\"size\":{\"field\":\"size\",\"units\":\"screen\"},\"x\":{\"field\":\"x\"},\"y\":{\"field\":\"y\"}},\"id\":\"f283029f-7d3a-4cd9-a39e-68c4fa62102a\",\"type\":\"InvertedTriangle\"},{\"attributes\":{\"bottom_units\":\"screen\",\"fill_alpha\":{\"value\":0.5},\"fill_color\":{\"value\":\"lightgrey\"},\"left_units\":\"screen\",\"level\":\"overlay\",\"line_alpha\":{\"value\":1.0},\"line_color\":{\"value\":\"black\"},\"line_dash\":[4,4],\"line_width\":{\"value\":2},\"plot\":null,\"render_mode\":\"css\",\"right_units\":\"screen\",\"top_units\":\"screen\"},\"id\":\"3e7fcc0a-a8e1-4be3-add6-792fb2598db5\",\"type\":\"BoxAnnotation\"},{\"attributes\":{},\"id\":\"02900589-2f93-4c5c-a7e6-635b17a17fc4\",\"type\":\"PanTool\"},{\"attributes\":{\"source\":{\"id\":\"e1c71465-f11d-432a-b2b4-af403d401d3a\",\"type\":\"ColumnDataSource\"}},\"id\":\"7ad73b1f-2d6c-4605-b442-3f5a102bbe7e\",\"type\":\"CDSView\"},{\"attributes\":{\"plot\":{\"id\":\"5905c6f2-8d45-484c-a1af-7d9c4ebe4d42\",\"subtype\":\"Figure\",\"type\":\"Plot\"},\"ticker\":{\"id\":\"016f1d70-769e-43a7-93d8-1628697f9b4f\",\"type\":\"BasicTicker\"}},\"id\":\"6b8a3a41-ec0f-4382-96d3-24d81c319505\",\"type\":\"Grid\"},{\"attributes\":{},\"id\":\"016f1d70-769e-43a7-93d8-1628697f9b4f\",\"type\":\"BasicTicker\"},{\"attributes\":{},\"id\":\"e19b25fe-9ea0-487d-9b5d-806706c896e7\",\"type\":\"WheelZoomTool\"},{\"attributes\":{\"overlay\":{\"id\":\"3e7fcc0a-a8e1-4be3-add6-792fb2598db5\",\"type\":\"BoxAnnotation\"}},\"id\":\"6770ace8-8e88-46ae-930e-3c8a172b597c\",\"type\":\"BoxZoomTool\"},{\"attributes\":{\"callback\":null,\"column_names\":[\"x\",\"y\",\"size\"],\"data\":{\"size\":[10,15,20,25,30],\"x\":[1,2,3,4,5],\"y\":[6,7,2,4,5]}},\"id\":\"e1c71465-f11d-432a-b2b4-af403d401d3a\",\"type\":\"ColumnDataSource\"},{\"attributes\":{\"callback\":null},\"id\":\"53dd664c-9263-4a0b-a633-f44aadfb654c\",\"type\":\"DataRange1d\"},{\"attributes\":{},\"id\":\"25b10bfd-4d29-4c00-a45b-b2b2cdce6c27\",\"type\":\"SaveTool\"},{\"attributes\":{\"formatter\":{\"id\":\"acc67bbf-501e-4aae-b72e-98660026104a\",\"type\":\"BasicTickFormatter\"},\"plot\":{\"id\":\"5905c6f2-8d45-484c-a1af-7d9c4ebe4d42\",\"subtype\":\"Figure\",\"type\":\"Plot\"},\"ticker\":{\"id\":\"ddf2b63f-bde5-4033-a012-3d3fd0ce0f99\",\"type\":\"BasicTicker\"}},\"id\":\"ebec87c4-e12b-4cb8-9646-ed44ce21df96\",\"type\":\"LinearAxis\"},{\"attributes\":{},\"id\":\"13ec7acd-58a9-4b97-ad7e-b716b18b6a0c\",\"type\":\"ResetTool\"},{\"attributes\":{\"below\":[{\"id\":\"b08aab24-d75c-40b4-a7d1-6abc49d4c1b7\",\"type\":\"LinearAxis\"}],\"left\":[{\"id\":\"ebec87c4-e12b-4cb8-9646-ed44ce21df96\",\"type\":\"LinearAxis\"}],\"plot_height\":400,\"plot_width\":400,\"renderers\":[{\"id\":\"b08aab24-d75c-40b4-a7d1-6abc49d4c1b7\",\"type\":\"LinearAxis\"},{\"id\":\"6b8a3a41-ec0f-4382-96d3-24d81c319505\",\"type\":\"Grid\"},{\"id\":\"ebec87c4-e12b-4cb8-9646-ed44ce21df96\",\"type\":\"LinearAxis\"},{\"id\":\"79197572-47ff-40a2-84ce-5c72b3365b82\",\"type\":\"Grid\"},{\"id\":\"3e7fcc0a-a8e1-4be3-add6-792fb2598db5\",\"type\":\"BoxAnnotation\"},{\"id\":\"0605daee-fa55-4fff-a9ac-b0e90c87879f\",\"type\":\"GlyphRenderer\"}],\"title\":{\"id\":\"03ff2fd9-f43c-4aeb-9a38-911387618cfc\",\"type\":\"Title\"},\"toolbar\":{\"id\":\"b4a11aea-4bcf-433a-bcfe-5c3d4d848da3\",\"type\":\"Toolbar\"},\"x_range\":{\"id\":\"53dd664c-9263-4a0b-a633-f44aadfb654c\",\"type\":\"DataRange1d\"},\"x_scale\":{\"id\":\"bbeeaab2-f892-4cd6-b3e1-bf06fba2645e\",\"type\":\"LinearScale\"},\"y_range\":{\"id\":\"4bd2c6da-e0fe-4b0a-88ca-20998d79f4f4\",\"type\":\"DataRange1d\"},\"y_scale\":{\"id\":\"e214ca50-a40b-4e96-8692-ce5f54aab5eb\",\"type\":\"LinearScale\"}},\"id\":\"5905c6f2-8d45-484c-a1af-7d9c4ebe4d42\",\"subtype\":\"Figure\",\"type\":\"Plot\"},{\"attributes\":{},\"id\":\"bbeeaab2-f892-4cd6-b3e1-bf06fba2645e\",\"type\":\"LinearScale\"},{\"attributes\":{},\"id\":\"0394c9f9-ad42-410a-bcd3-b41782de1f69\",\"type\":\"HelpTool\"},{\"attributes\":{},\"id\":\"e214ca50-a40b-4e96-8692-ce5f54aab5eb\",\"type\":\"LinearScale\"},{\"attributes\":{\"plot\":null,\"text\":\"\"},\"id\":\"03ff2fd9-f43c-4aeb-9a38-911387618cfc\",\"type\":\"Title\"},{\"attributes\":{\"active_drag\":\"auto\",\"active_inspect\":\"auto\",\"active_scroll\":\"auto\",\"active_tap\":\"auto\",\"tools\":[{\"id\":\"02900589-2f93-4c5c-a7e6-635b17a17fc4\",\"type\":\"PanTool\"},{\"id\":\"e19b25fe-9ea0-487d-9b5d-806706c896e7\",\"type\":\"WheelZoomTool\"},{\"id\":\"6770ace8-8e88-46ae-930e-3c8a172b597c\",\"type\":\"BoxZoomTool\"},{\"id\":\"25b10bfd-4d29-4c00-a45b-b2b2cdce6c27\",\"type\":\"SaveTool\"},{\"id\":\"13ec7acd-58a9-4b97-ad7e-b716b18b6a0c\",\"type\":\"ResetTool\"},{\"id\":\"0394c9f9-ad42-410a-bcd3-b41782de1f69\",\"type\":\"HelpTool\"}]},\"id\":\"b4a11aea-4bcf-433a-bcfe-5c3d4d848da3\",\"type\":\"Toolbar\"}],\"root_ids\":[\"5905c6f2-8d45-484c-a1af-7d9c4ebe4d42\"]},\"title\":\"Bokeh Application\",\"version\":\"0.12.13\"}};\n",
       "  var render_items = [{\"docid\":\"f047a15a-bf39-4aad-8c94-2748cbcbceb3\",\"elementid\":\"63bebed7-c08a-4a50-bb49-eb744f9fdafb\",\"modelid\":\"5905c6f2-8d45-484c-a1af-7d9c4ebe4d42\"}];\n",
       "  root.Bokeh.embed.embed_items_notebook(docs_json, render_items);\n",
       "\n",
       "  }\n",
       "  if (root.Bokeh !== undefined) {\n",
       "    embed_document(root);\n",
       "  } else {\n",
       "    var attempts = 0;\n",
       "    var timer = setInterval(function(root) {\n",
       "      if (root.Bokeh !== undefined) {\n",
       "        embed_document(root);\n",
       "        clearInterval(timer);\n",
       "      }\n",
       "      attempts++;\n",
       "      if (attempts > 100) {\n",
       "        console.log(\"Bokeh: ERROR: Unable to run BokehJS code because BokehJS library is missing\")\n",
       "        clearInterval(timer);\n",
       "      }\n",
       "    }, 10, root)\n",
       "  }\n",
       "})(window);"
      ],
      "application/vnd.bokehjs_exec.v0+json": ""
     },
     "metadata": {
      "application/vnd.bokehjs_exec.v0+json": {
       "id": "5905c6f2-8d45-484c-a1af-7d9c4ebe4d42"
      }
     },
     "output_type": "display_data"
    }
   ],
   "source": [
    "# EXERCISE: Plot some different markers in this cell\n",
    "# create a new plot using figure\n",
    "p = figure(plot_width=400, plot_height=400)\n",
    "\n",
    "# add a square renderer with a size, color, alpha, and sizes\n",
    "p.square([1, 2, 3, 4, 5], [6, 7, 2, 4, 5], size=[10, 15, 20, 25, 30], color=\"firebrick\", alpha=0.6)\n",
    "\n",
    "# create a new plot using figure\n",
    "p2 = figure(plot_width=400, plot_height=400)\n",
    "\n",
    "# add a square renderer with a size, color, alpha, and sizes\n",
    "p2.inverted_triangle([1, 2, 3, 4, 5], [6, 7, 2, 4, 5], size=[10, 15, 20, 25, 30], color=\"firebrick\", alpha=0.6)\n",
    "\n",
    "show(p2)"
   ]
  },
  {
   "cell_type": "markdown",
   "metadata": {},
   "source": [
    "# Basic Line Plots"
   ]
  },
  {
   "cell_type": "code",
   "execution_count": 7,
   "metadata": {},
   "outputs": [
    {
     "data": {
      "text/html": [
       "\n",
       "<div class=\"bk-root\">\n",
       "    <div class=\"bk-plotdiv\" id=\"66115c94-8567-434f-a2fb-65035f980abe\"></div>\n",
       "</div>"
      ]
     },
     "metadata": {},
     "output_type": "display_data"
    },
    {
     "data": {
      "application/javascript": [
       "(function(root) {\n",
       "  function embed_document(root) {\n",
       "    \n",
       "  var docs_json = {\"aafe0c82-9d89-47b1-b94a-fc1a7eae02ef\":{\"roots\":{\"references\":[{\"attributes\":{\"data_source\":{\"id\":\"5091e470-2b4a-41b2-b1eb-bc4b71f18138\",\"type\":\"ColumnDataSource\"},\"glyph\":{\"id\":\"ee3e9de3-6cf7-4d15-94a8-4818e2da8b0f\",\"type\":\"Line\"},\"hover_glyph\":null,\"muted_glyph\":null,\"nonselection_glyph\":{\"id\":\"d1611b77-d7b9-45fb-91bd-bdb72bf207db\",\"type\":\"Line\"},\"selection_glyph\":null,\"view\":{\"id\":\"ee527e26-5f26-4dd7-b6b6-db80809593f6\",\"type\":\"CDSView\"}},\"id\":\"6ea2460b-87e3-46e7-8140-92a7033ae65f\",\"type\":\"GlyphRenderer\"},{\"attributes\":{},\"id\":\"59211c28-08ee-4588-b447-6438f6624446\",\"type\":\"ResetTool\"},{\"attributes\":{\"dimension\":1,\"plot\":{\"id\":\"5f762a18-5e16-4515-93fd-009f95971bd6\",\"subtype\":\"Figure\",\"type\":\"Plot\"},\"ticker\":{\"id\":\"eb03a085-11a8-4380-b219-3c72ae9e7cf1\",\"type\":\"BasicTicker\"}},\"id\":\"5d45080d-de7b-4237-a74f-8525a30d65e5\",\"type\":\"Grid\"},{\"attributes\":{\"callback\":null},\"id\":\"5d8377b7-6bd3-4855-8283-33739a355aa1\",\"type\":\"DataRange1d\"},{\"attributes\":{},\"id\":\"3972000f-5601-4676-88ae-304c0a2a71ac\",\"type\":\"HelpTool\"},{\"attributes\":{},\"id\":\"15fcc21d-6454-42fd-8b90-6056c9b55f69\",\"type\":\"BasicTicker\"},{\"attributes\":{\"plot\":null,\"text\":\"My Line Plot\"},\"id\":\"f30b00a6-8b90-4f34-9206-47f5de05ce0a\",\"type\":\"Title\"},{\"attributes\":{\"callback\":null},\"id\":\"c6abf4a2-db36-46bd-8b1a-7f9ab18406b8\",\"type\":\"DataRange1d\"},{\"attributes\":{\"plot\":{\"id\":\"5f762a18-5e16-4515-93fd-009f95971bd6\",\"subtype\":\"Figure\",\"type\":\"Plot\"},\"ticker\":{\"id\":\"15fcc21d-6454-42fd-8b90-6056c9b55f69\",\"type\":\"BasicTicker\"}},\"id\":\"b7d68b1d-f613-404c-8d5a-649c227a5382\",\"type\":\"Grid\"},{\"attributes\":{\"formatter\":{\"id\":\"39c8ab5b-f647-495e-9bc6-574411abcf5e\",\"type\":\"BasicTickFormatter\"},\"plot\":{\"id\":\"5f762a18-5e16-4515-93fd-009f95971bd6\",\"subtype\":\"Figure\",\"type\":\"Plot\"},\"ticker\":{\"id\":\"eb03a085-11a8-4380-b219-3c72ae9e7cf1\",\"type\":\"BasicTicker\"}},\"id\":\"4404e120-ddef-443f-baaf-3bc2e8f64960\",\"type\":\"LinearAxis\"},{\"attributes\":{\"below\":[{\"id\":\"9b3096bc-6af1-4c52-8334-02e8952cf937\",\"type\":\"LinearAxis\"}],\"left\":[{\"id\":\"4404e120-ddef-443f-baaf-3bc2e8f64960\",\"type\":\"LinearAxis\"}],\"plot_height\":400,\"plot_width\":400,\"renderers\":[{\"id\":\"9b3096bc-6af1-4c52-8334-02e8952cf937\",\"type\":\"LinearAxis\"},{\"id\":\"b7d68b1d-f613-404c-8d5a-649c227a5382\",\"type\":\"Grid\"},{\"id\":\"4404e120-ddef-443f-baaf-3bc2e8f64960\",\"type\":\"LinearAxis\"},{\"id\":\"5d45080d-de7b-4237-a74f-8525a30d65e5\",\"type\":\"Grid\"},{\"id\":\"126b22fa-88d4-4bc7-aaae-185b2d1a04b0\",\"type\":\"BoxAnnotation\"},{\"id\":\"6ea2460b-87e3-46e7-8140-92a7033ae65f\",\"type\":\"GlyphRenderer\"}],\"title\":{\"id\":\"f30b00a6-8b90-4f34-9206-47f5de05ce0a\",\"type\":\"Title\"},\"toolbar\":{\"id\":\"87ebaba5-e46e-46df-9084-aa4a790bfe8b\",\"type\":\"Toolbar\"},\"x_range\":{\"id\":\"5d8377b7-6bd3-4855-8283-33739a355aa1\",\"type\":\"DataRange1d\"},\"x_scale\":{\"id\":\"893bd9cd-5f9d-44eb-b270-31a95d6d40f0\",\"type\":\"LinearScale\"},\"y_range\":{\"id\":\"c6abf4a2-db36-46bd-8b1a-7f9ab18406b8\",\"type\":\"DataRange1d\"},\"y_scale\":{\"id\":\"c2b192be-83d2-41fe-94b6-4950a5490609\",\"type\":\"LinearScale\"}},\"id\":\"5f762a18-5e16-4515-93fd-009f95971bd6\",\"subtype\":\"Figure\",\"type\":\"Plot\"},{\"attributes\":{\"source\":{\"id\":\"5091e470-2b4a-41b2-b1eb-bc4b71f18138\",\"type\":\"ColumnDataSource\"}},\"id\":\"ee527e26-5f26-4dd7-b6b6-db80809593f6\",\"type\":\"CDSView\"},{\"attributes\":{\"active_drag\":\"auto\",\"active_inspect\":\"auto\",\"active_scroll\":\"auto\",\"active_tap\":\"auto\",\"tools\":[{\"id\":\"ab627362-9a1c-49b6-922a-9a17c8ebcfce\",\"type\":\"PanTool\"},{\"id\":\"ff4cf55d-c224-4644-bc44-7dacb7f59b13\",\"type\":\"WheelZoomTool\"},{\"id\":\"c367c81a-c3af-43bf-b249-47013bb496e5\",\"type\":\"BoxZoomTool\"},{\"id\":\"3a0fb955-30c5-4a6c-a316-8e5d0eb8282c\",\"type\":\"SaveTool\"},{\"id\":\"59211c28-08ee-4588-b447-6438f6624446\",\"type\":\"ResetTool\"},{\"id\":\"3972000f-5601-4676-88ae-304c0a2a71ac\",\"type\":\"HelpTool\"}]},\"id\":\"87ebaba5-e46e-46df-9084-aa4a790bfe8b\",\"type\":\"Toolbar\"},{\"attributes\":{},\"id\":\"39c8ab5b-f647-495e-9bc6-574411abcf5e\",\"type\":\"BasicTickFormatter\"},{\"attributes\":{},\"id\":\"ab627362-9a1c-49b6-922a-9a17c8ebcfce\",\"type\":\"PanTool\"},{\"attributes\":{},\"id\":\"eb03a085-11a8-4380-b219-3c72ae9e7cf1\",\"type\":\"BasicTicker\"},{\"attributes\":{\"callback\":null,\"column_names\":[\"x\",\"y\"],\"data\":{\"x\":[1,2,3,4,5],\"y\":[6,7,2,4,5]}},\"id\":\"5091e470-2b4a-41b2-b1eb-bc4b71f18138\",\"type\":\"ColumnDataSource\"},{\"attributes\":{\"overlay\":{\"id\":\"126b22fa-88d4-4bc7-aaae-185b2d1a04b0\",\"type\":\"BoxAnnotation\"}},\"id\":\"c367c81a-c3af-43bf-b249-47013bb496e5\",\"type\":\"BoxZoomTool\"},{\"attributes\":{},\"id\":\"c2b192be-83d2-41fe-94b6-4950a5490609\",\"type\":\"LinearScale\"},{\"attributes\":{\"line_alpha\":0.1,\"line_color\":\"#1f77b4\",\"line_width\":2,\"x\":{\"field\":\"x\"},\"y\":{\"field\":\"y\"}},\"id\":\"d1611b77-d7b9-45fb-91bd-bdb72bf207db\",\"type\":\"Line\"},{\"attributes\":{},\"id\":\"3a0fb955-30c5-4a6c-a316-8e5d0eb8282c\",\"type\":\"SaveTool\"},{\"attributes\":{},\"id\":\"ff4cf55d-c224-4644-bc44-7dacb7f59b13\",\"type\":\"WheelZoomTool\"},{\"attributes\":{\"formatter\":{\"id\":\"b9e1a138-855e-4efb-b504-054c7816d9bd\",\"type\":\"BasicTickFormatter\"},\"plot\":{\"id\":\"5f762a18-5e16-4515-93fd-009f95971bd6\",\"subtype\":\"Figure\",\"type\":\"Plot\"},\"ticker\":{\"id\":\"15fcc21d-6454-42fd-8b90-6056c9b55f69\",\"type\":\"BasicTicker\"}},\"id\":\"9b3096bc-6af1-4c52-8334-02e8952cf937\",\"type\":\"LinearAxis\"},{\"attributes\":{\"line_color\":\"#1f77b4\",\"line_width\":2,\"x\":{\"field\":\"x\"},\"y\":{\"field\":\"y\"}},\"id\":\"ee3e9de3-6cf7-4d15-94a8-4818e2da8b0f\",\"type\":\"Line\"},{\"attributes\":{},\"id\":\"893bd9cd-5f9d-44eb-b270-31a95d6d40f0\",\"type\":\"LinearScale\"},{\"attributes\":{},\"id\":\"b9e1a138-855e-4efb-b504-054c7816d9bd\",\"type\":\"BasicTickFormatter\"},{\"attributes\":{\"bottom_units\":\"screen\",\"fill_alpha\":{\"value\":0.5},\"fill_color\":{\"value\":\"lightgrey\"},\"left_units\":\"screen\",\"level\":\"overlay\",\"line_alpha\":{\"value\":1.0},\"line_color\":{\"value\":\"black\"},\"line_dash\":[4,4],\"line_width\":{\"value\":2},\"plot\":null,\"render_mode\":\"css\",\"right_units\":\"screen\",\"top_units\":\"screen\"},\"id\":\"126b22fa-88d4-4bc7-aaae-185b2d1a04b0\",\"type\":\"BoxAnnotation\"}],\"root_ids\":[\"5f762a18-5e16-4515-93fd-009f95971bd6\"]},\"title\":\"Bokeh Application\",\"version\":\"0.12.13\"}};\n",
       "  var render_items = [{\"docid\":\"aafe0c82-9d89-47b1-b94a-fc1a7eae02ef\",\"elementid\":\"66115c94-8567-434f-a2fb-65035f980abe\",\"modelid\":\"5f762a18-5e16-4515-93fd-009f95971bd6\"}];\n",
       "  root.Bokeh.embed.embed_items_notebook(docs_json, render_items);\n",
       "\n",
       "  }\n",
       "  if (root.Bokeh !== undefined) {\n",
       "    embed_document(root);\n",
       "  } else {\n",
       "    var attempts = 0;\n",
       "    var timer = setInterval(function(root) {\n",
       "      if (root.Bokeh !== undefined) {\n",
       "        embed_document(root);\n",
       "        clearInterval(timer);\n",
       "      }\n",
       "      attempts++;\n",
       "      if (attempts > 100) {\n",
       "        console.log(\"Bokeh: ERROR: Unable to run BokehJS code because BokehJS library is missing\")\n",
       "        clearInterval(timer);\n",
       "      }\n",
       "    }, 10, root)\n",
       "  }\n",
       "})(window);"
      ],
      "application/vnd.bokehjs_exec.v0+json": ""
     },
     "metadata": {
      "application/vnd.bokehjs_exec.v0+json": {
       "id": "5f762a18-5e16-4515-93fd-009f95971bd6"
      }
     },
     "output_type": "display_data"
    }
   ],
   "source": [
    "# create a new plot (with a title) using figure\n",
    "p = figure(plot_width=400, plot_height=400, title=\"My Line Plot\")\n",
    "\n",
    "# add a line renderer\n",
    "p.line([1, 2, 3, 4, 5], [6, 7, 2, 4, 5], line_width=2)\n",
    "\n",
    "show(p) # show the results"
   ]
  },
  {
   "cell_type": "markdown",
   "metadata": {},
   "source": [
    "# Images"
   ]
  },
  {
   "cell_type": "markdown",
   "metadata": {},
   "source": [
    "The example below shows how to use the `image_rgba` method to display raw RGBA data. \n",
    "\n",
    "**Note**: This example makes use of the NumPy library "
   ]
  },
  {
   "cell_type": "code",
   "execution_count": 8,
   "metadata": {},
   "outputs": [
    {
     "data": {
      "text/html": [
       "\n",
       "<div class=\"bk-root\">\n",
       "    <div class=\"bk-plotdiv\" id=\"6f4e49db-5b38-4f31-a5f4-eef20545cca1\"></div>\n",
       "</div>"
      ]
     },
     "metadata": {},
     "output_type": "display_data"
    },
    {
     "data": {
      "application/javascript": [
       "(function(root) {\n",
       "  function embed_document(root) {\n",
       "    \n",
       "  var docs_json = {\"c33ba6f3-a558-4833-b0a6-e28bd59b3dc9\":{\"roots\":{\"references\":[{\"attributes\":{},\"id\":\"55acdbb1-cae3-46c3-9b84-57fd41412fb0\",\"type\":\"BasicTicker\"},{\"attributes\":{},\"id\":\"fcdc1b08-011e-4e4c-88c2-d29de4b4f511\",\"type\":\"BasicTickFormatter\"},{\"attributes\":{\"plot\":{\"id\":\"460a5011-c22e-46bf-b004-56ef5c3e1269\",\"subtype\":\"Figure\",\"type\":\"Plot\"},\"ticker\":{\"id\":\"f07cffd1-7dc2-4fef-bb0e-545d11a5620c\",\"type\":\"BasicTicker\"}},\"id\":\"41021e23-b33e-4ea6-875d-dd7e5ad1c95f\",\"type\":\"Grid\"},{\"attributes\":{},\"id\":\"f07cffd1-7dc2-4fef-bb0e-545d11a5620c\",\"type\":\"BasicTicker\"},{\"attributes\":{\"dh\":{\"field\":\"dh\",\"units\":\"data\"},\"dw\":{\"field\":\"dw\",\"units\":\"data\"},\"image\":{\"field\":\"image\"},\"x\":{\"field\":\"x\"},\"y\":{\"field\":\"y\"}},\"id\":\"19fc633e-8a68-41a1-b6db-2c2318aa3391\",\"type\":\"ImageRGBA\"},{\"attributes\":{\"formatter\":{\"id\":\"fcdc1b08-011e-4e4c-88c2-d29de4b4f511\",\"type\":\"BasicTickFormatter\"},\"plot\":{\"id\":\"460a5011-c22e-46bf-b004-56ef5c3e1269\",\"subtype\":\"Figure\",\"type\":\"Plot\"},\"ticker\":{\"id\":\"55acdbb1-cae3-46c3-9b84-57fd41412fb0\",\"type\":\"BasicTicker\"}},\"id\":\"7ab00864-27ea-466f-958e-86f08d601d02\",\"type\":\"LinearAxis\"},{\"attributes\":{\"dimension\":1,\"plot\":{\"id\":\"460a5011-c22e-46bf-b004-56ef5c3e1269\",\"subtype\":\"Figure\",\"type\":\"Plot\"},\"ticker\":{\"id\":\"55acdbb1-cae3-46c3-9b84-57fd41412fb0\",\"type\":\"BasicTicker\"}},\"id\":\"070e46a8-a1d4-45ac-8194-1143e27e5269\",\"type\":\"Grid\"},{\"attributes\":{\"data_source\":{\"id\":\"e6c4b07a-cd37-4e98-aac7-5c665f05eb3a\",\"type\":\"ColumnDataSource\"},\"glyph\":{\"id\":\"dbf65466-e044-482c-bda8-14cddfdfa2de\",\"type\":\"ImageRGBA\"},\"hover_glyph\":null,\"muted_glyph\":null,\"nonselection_glyph\":{\"id\":\"19fc633e-8a68-41a1-b6db-2c2318aa3391\",\"type\":\"ImageRGBA\"},\"selection_glyph\":null,\"view\":{\"id\":\"2d7161a7-7387-415f-8571-432b35486971\",\"type\":\"CDSView\"}},\"id\":\"ea65aa45-34b1-44a4-afe7-12e71fd18b5a\",\"type\":\"GlyphRenderer\"},{\"attributes\":{\"callback\":null,\"end\":10},\"id\":\"4bd2a5f2-d44d-4379-812c-08442a114035\",\"type\":\"Range1d\"},{\"attributes\":{\"bottom_units\":\"screen\",\"fill_alpha\":{\"value\":0.5},\"fill_color\":{\"value\":\"lightgrey\"},\"left_units\":\"screen\",\"level\":\"overlay\",\"line_alpha\":{\"value\":1.0},\"line_color\":{\"value\":\"black\"},\"line_dash\":[4,4],\"line_width\":{\"value\":2},\"plot\":null,\"render_mode\":\"css\",\"right_units\":\"screen\",\"top_units\":\"screen\"},\"id\":\"b2a92d3e-5ead-4161-bd34-f955f14aae97\",\"type\":\"BoxAnnotation\"},{\"attributes\":{\"callback\":null,\"column_names\":[\"image\",\"x\",\"y\",\"dw\",\"dh\"],\"data\":{\"dh\":[10],\"dw\":[10],\"image\":[{\"__ndarray__\":\"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\",\"dtype\":\"uint32\",\"shape\":[20,20]}],\"x\":[0],\"y\":[0]}},\"id\":\"e6c4b07a-cd37-4e98-aac7-5c665f05eb3a\",\"type\":\"ColumnDataSource\"},{\"attributes\":{},\"id\":\"a2a486a0-8dff-42e9-8442-016d41227d82\",\"type\":\"PanTool\"},{\"attributes\":{\"source\":{\"id\":\"e6c4b07a-cd37-4e98-aac7-5c665f05eb3a\",\"type\":\"ColumnDataSource\"}},\"id\":\"2d7161a7-7387-415f-8571-432b35486971\",\"type\":\"CDSView\"},{\"attributes\":{},\"id\":\"0ca1bef7-d2af-4657-94cd-b3fe83fe10de\",\"type\":\"BasicTickFormatter\"},{\"attributes\":{\"below\":[{\"id\":\"735932e9-e82c-497d-ab72-5898a48c0fc7\",\"type\":\"LinearAxis\"}],\"left\":[{\"id\":\"7ab00864-27ea-466f-958e-86f08d601d02\",\"type\":\"LinearAxis\"}],\"renderers\":[{\"id\":\"735932e9-e82c-497d-ab72-5898a48c0fc7\",\"type\":\"LinearAxis\"},{\"id\":\"41021e23-b33e-4ea6-875d-dd7e5ad1c95f\",\"type\":\"Grid\"},{\"id\":\"7ab00864-27ea-466f-958e-86f08d601d02\",\"type\":\"LinearAxis\"},{\"id\":\"070e46a8-a1d4-45ac-8194-1143e27e5269\",\"type\":\"Grid\"},{\"id\":\"b2a92d3e-5ead-4161-bd34-f955f14aae97\",\"type\":\"BoxAnnotation\"},{\"id\":\"ea65aa45-34b1-44a4-afe7-12e71fd18b5a\",\"type\":\"GlyphRenderer\"}],\"title\":{\"id\":\"41d365dc-51bf-41bf-b72e-dd7743aebf11\",\"type\":\"Title\"},\"toolbar\":{\"id\":\"9ff064b3-023e-4ed3-9020-08948fe3bf60\",\"type\":\"Toolbar\"},\"x_range\":{\"id\":\"52dbc179-fe84-42e3-b56b-c27cf587d8e6\",\"type\":\"Range1d\"},\"x_scale\":{\"id\":\"02b51ad9-bb9e-4556-a5be-8fa07022614b\",\"type\":\"LinearScale\"},\"y_range\":{\"id\":\"4bd2a5f2-d44d-4379-812c-08442a114035\",\"type\":\"Range1d\"},\"y_scale\":{\"id\":\"14751d1c-a958-4a83-a25f-f22c0276e0bb\",\"type\":\"LinearScale\"}},\"id\":\"460a5011-c22e-46bf-b004-56ef5c3e1269\",\"subtype\":\"Figure\",\"type\":\"Plot\"},{\"attributes\":{\"dh\":{\"field\":\"dh\",\"units\":\"data\"},\"dw\":{\"field\":\"dw\",\"units\":\"data\"},\"image\":{\"field\":\"image\"},\"x\":{\"field\":\"x\"},\"y\":{\"field\":\"y\"}},\"id\":\"dbf65466-e044-482c-bda8-14cddfdfa2de\",\"type\":\"ImageRGBA\"},{\"attributes\":{},\"id\":\"8e585588-b7f2-4d83-a8f4-acdbcf8beb59\",\"type\":\"WheelZoomTool\"},{\"attributes\":{\"active_drag\":\"auto\",\"active_inspect\":\"auto\",\"active_scroll\":\"auto\",\"active_tap\":\"auto\",\"tools\":[{\"id\":\"a2a486a0-8dff-42e9-8442-016d41227d82\",\"type\":\"PanTool\"},{\"id\":\"8e585588-b7f2-4d83-a8f4-acdbcf8beb59\",\"type\":\"WheelZoomTool\"},{\"id\":\"96f7f9b8-faa8-4423-88c8-e063d410df9a\",\"type\":\"BoxZoomTool\"},{\"id\":\"a9f4caf5-2266-4a03-91d5-a87a6d085969\",\"type\":\"SaveTool\"},{\"id\":\"b2f5dd16-42f2-46f7-a6fb-e6821778894d\",\"type\":\"ResetTool\"},{\"id\":\"37443e4c-3bb5-4de9-be7a-198f66b697d1\",\"type\":\"HelpTool\"}]},\"id\":\"9ff064b3-023e-4ed3-9020-08948fe3bf60\",\"type\":\"Toolbar\"},{\"attributes\":{\"overlay\":{\"id\":\"b2a92d3e-5ead-4161-bd34-f955f14aae97\",\"type\":\"BoxAnnotation\"}},\"id\":\"96f7f9b8-faa8-4423-88c8-e063d410df9a\",\"type\":\"BoxZoomTool\"},{\"attributes\":{\"callback\":null,\"end\":10},\"id\":\"52dbc179-fe84-42e3-b56b-c27cf587d8e6\",\"type\":\"Range1d\"},{\"attributes\":{},\"id\":\"a9f4caf5-2266-4a03-91d5-a87a6d085969\",\"type\":\"SaveTool\"},{\"attributes\":{},\"id\":\"02b51ad9-bb9e-4556-a5be-8fa07022614b\",\"type\":\"LinearScale\"},{\"attributes\":{},\"id\":\"b2f5dd16-42f2-46f7-a6fb-e6821778894d\",\"type\":\"ResetTool\"},{\"attributes\":{},\"id\":\"37443e4c-3bb5-4de9-be7a-198f66b697d1\",\"type\":\"HelpTool\"},{\"attributes\":{},\"id\":\"14751d1c-a958-4a83-a25f-f22c0276e0bb\",\"type\":\"LinearScale\"},{\"attributes\":{\"formatter\":{\"id\":\"0ca1bef7-d2af-4657-94cd-b3fe83fe10de\",\"type\":\"BasicTickFormatter\"},\"plot\":{\"id\":\"460a5011-c22e-46bf-b004-56ef5c3e1269\",\"subtype\":\"Figure\",\"type\":\"Plot\"},\"ticker\":{\"id\":\"f07cffd1-7dc2-4fef-bb0e-545d11a5620c\",\"type\":\"BasicTicker\"}},\"id\":\"735932e9-e82c-497d-ab72-5898a48c0fc7\",\"type\":\"LinearAxis\"},{\"attributes\":{\"plot\":null,\"text\":\"\"},\"id\":\"41d365dc-51bf-41bf-b72e-dd7743aebf11\",\"type\":\"Title\"}],\"root_ids\":[\"460a5011-c22e-46bf-b004-56ef5c3e1269\"]},\"title\":\"Bokeh Application\",\"version\":\"0.12.13\"}};\n",
       "  var render_items = [{\"docid\":\"c33ba6f3-a558-4833-b0a6-e28bd59b3dc9\",\"elementid\":\"6f4e49db-5b38-4f31-a5f4-eef20545cca1\",\"modelid\":\"460a5011-c22e-46bf-b004-56ef5c3e1269\"}];\n",
       "  root.Bokeh.embed.embed_items_notebook(docs_json, render_items);\n",
       "\n",
       "  }\n",
       "  if (root.Bokeh !== undefined) {\n",
       "    embed_document(root);\n",
       "  } else {\n",
       "    var attempts = 0;\n",
       "    var timer = setInterval(function(root) {\n",
       "      if (root.Bokeh !== undefined) {\n",
       "        embed_document(root);\n",
       "        clearInterval(timer);\n",
       "      }\n",
       "      attempts++;\n",
       "      if (attempts > 100) {\n",
       "        console.log(\"Bokeh: ERROR: Unable to run BokehJS code because BokehJS library is missing\")\n",
       "        clearInterval(timer);\n",
       "      }\n",
       "    }, 10, root)\n",
       "  }\n",
       "})(window);"
      ],
      "application/vnd.bokehjs_exec.v0+json": ""
     },
     "metadata": {
      "application/vnd.bokehjs_exec.v0+json": {
       "id": "460a5011-c22e-46bf-b004-56ef5c3e1269"
      }
     },
     "output_type": "display_data"
    }
   ],
   "source": [
    "from __future__ import division\n",
    "import numpy as np\n",
    "\n",
    "# set up some data\n",
    "N = 20\n",
    "img = np.empty((N,N), dtype=np.uint32)\n",
    "view = img.view(dtype=np.uint8).reshape((N, N, 4))\n",
    "for i in range(N):\n",
    "    for j in range(N):\n",
    "        view[i, j, 0] = int(i/N*255) # red\n",
    "        view[i, j, 1] = 158          # green\n",
    "        view[i, j, 2] = int(j/N*255) # blue\n",
    "        view[i, j, 3] = 255          # alpha\n",
    "        \n",
    "# create a new plot (with a fixed range) using figure\n",
    "p = figure(x_range=[0,10], y_range=[0,10])\n",
    "\n",
    "# add an RGBA image renderer\n",
    "p.image_rgba(image=[img], x=[0], y=[0], dw=[10], dh=[10])\n",
    "\n",
    "show(p) # show the results"
   ]
  },
  {
   "cell_type": "markdown",
   "metadata": {},
   "source": [
    "# Other Kinds of Glyphs\n",
    "\n",
    "Bokeh supports many other kinds of glyphs. You can click on the User Guide links below to see how to create plots with these glyphs using the [`bokeh.plotting`](http://bokeh.pydata.org/en/latest/docs/user_guide/plotting.html) interface.\n",
    "\n",
    "* [Rectangles and Ovals](http://bokeh.pydata.org/en/latest/docs/user_guide/plotting.html#rectangles-and-ovals)\n",
    "* [Segments and Rays](http://bokeh.pydata.org/en/latest/docs/user_guide/plotting.html#segments-and-rays)\n",
    "* [Wedges and Arcs](http://bokeh.pydata.org/en/latest/docs/user_guide/plotting.html#wedges-and-arcs)\n",
    "* [Specialized Curves](http://bokeh.pydata.org/en/latest/docs/user_guide/plotting.html#specialized-curves)\n"
   ]
  },
  {
   "cell_type": "code",
   "execution_count": 9,
   "metadata": {},
   "outputs": [
    {
     "data": {
      "text/html": [
       "\n",
       "<div class=\"bk-root\">\n",
       "    <div class=\"bk-plotdiv\" id=\"f8b448d6-9757-40ff-86cd-c21753c40279\"></div>\n",
       "</div>"
      ]
     },
     "metadata": {},
     "output_type": "display_data"
    },
    {
     "data": {
      "application/javascript": [
       "(function(root) {\n",
       "  function embed_document(root) {\n",
       "    \n",
       "  var docs_json = {\"7fa9d1bb-12eb-4d76-9b67-385ece709c81\":{\"roots\":{\"references\":[{\"attributes\":{\"active_drag\":\"auto\",\"active_inspect\":\"auto\",\"active_scroll\":\"auto\",\"active_tap\":\"auto\",\"tools\":[{\"id\":\"364c0b18-e7a8-4d38-930b-dc638bf29f2f\",\"type\":\"PanTool\"},{\"id\":\"bef04cc4-663b-4ccc-b579-525efea28176\",\"type\":\"WheelZoomTool\"},{\"id\":\"d4c742ad-b31a-459e-907e-71df7d92ef26\",\"type\":\"BoxZoomTool\"},{\"id\":\"f65a619f-1142-4bfc-a485-07521503da13\",\"type\":\"SaveTool\"},{\"id\":\"51b94a93-3a16-4937-b2ee-5e08cc878fae\",\"type\":\"ResetTool\"},{\"id\":\"eb7a4ebd-806f-43df-a253-a94ebcd98695\",\"type\":\"HelpTool\"}]},\"id\":\"f688526a-85d6-424e-9483-83c46e1fe434\",\"type\":\"Toolbar\"},{\"attributes\":{},\"id\":\"bef04cc4-663b-4ccc-b579-525efea28176\",\"type\":\"WheelZoomTool\"},{\"attributes\":{\"end_angle\":{\"units\":\"rad\",\"value\":4.8},\"fill_alpha\":{\"value\":0.1},\"fill_color\":{\"value\":\"#1f77b4\"},\"inner_radius\":{\"units\":\"data\",\"value\":0.1},\"line_alpha\":{\"value\":0.1},\"line_color\":{\"value\":\"#1f77b4\"},\"outer_radius\":{\"units\":\"data\",\"value\":0.25},\"start_angle\":{\"units\":\"rad\",\"value\":0.4},\"x\":{\"field\":\"x\"},\"y\":{\"field\":\"y\"}},\"id\":\"1ae42384-026d-4830-b13f-6cdf1dce5225\",\"type\":\"AnnularWedge\"},{\"attributes\":{},\"id\":\"eb7a4ebd-806f-43df-a253-a94ebcd98695\",\"type\":\"HelpTool\"},{\"attributes\":{},\"id\":\"51b94a93-3a16-4937-b2ee-5e08cc878fae\",\"type\":\"ResetTool\"},{\"attributes\":{\"plot\":null,\"text\":\"\"},\"id\":\"c234bd6e-91e4-4206-9e6c-98c2d2533122\",\"type\":\"Title\"},{\"attributes\":{\"end_angle\":{\"units\":\"rad\",\"value\":4.8},\"fill_alpha\":{\"value\":0.6},\"fill_color\":{\"value\":\"green\"},\"inner_radius\":{\"units\":\"data\",\"value\":0.1},\"line_alpha\":{\"value\":0.6},\"line_color\":{\"value\":\"green\"},\"outer_radius\":{\"units\":\"data\",\"value\":0.25},\"start_angle\":{\"units\":\"rad\",\"value\":0.4},\"x\":{\"field\":\"x\"},\"y\":{\"field\":\"y\"}},\"id\":\"382a0e1a-4d18-4119-ada2-85ee71ab0de1\",\"type\":\"AnnularWedge\"},{\"attributes\":{\"callback\":null},\"id\":\"603ade87-0b59-4207-a39d-6e69ff21abf7\",\"type\":\"DataRange1d\"},{\"attributes\":{\"dimension\":1,\"plot\":{\"id\":\"4a193c50-e16d-4efb-b4ec-d916732ba048\",\"subtype\":\"Figure\",\"type\":\"Plot\"},\"ticker\":{\"id\":\"2cc59b6c-da2e-4405-b4f8-73ea1b9c8314\",\"type\":\"BasicTicker\"}},\"id\":\"b34f70da-aa53-4e63-b817-1f1c0ca715e6\",\"type\":\"Grid\"},{\"attributes\":{\"data_source\":{\"id\":\"08926594-f6f3-4f2b-895c-e8041ca47e59\",\"type\":\"ColumnDataSource\"},\"glyph\":{\"id\":\"382a0e1a-4d18-4119-ada2-85ee71ab0de1\",\"type\":\"AnnularWedge\"},\"hover_glyph\":null,\"muted_glyph\":null,\"nonselection_glyph\":{\"id\":\"1ae42384-026d-4830-b13f-6cdf1dce5225\",\"type\":\"AnnularWedge\"},\"selection_glyph\":null,\"view\":{\"id\":\"614984c5-ca66-4edd-b054-130ead9d8ad9\",\"type\":\"CDSView\"}},\"id\":\"597d003f-378d-47f7-ad63-2e408c975bc3\",\"type\":\"GlyphRenderer\"},{\"attributes\":{},\"id\":\"ae23e2de-1477-42ee-b87c-d22f501a14d8\",\"type\":\"LinearScale\"},{\"attributes\":{},\"id\":\"f65a619f-1142-4bfc-a485-07521503da13\",\"type\":\"SaveTool\"},{\"attributes\":{},\"id\":\"364c0b18-e7a8-4d38-930b-dc638bf29f2f\",\"type\":\"PanTool\"},{\"attributes\":{\"bottom_units\":\"screen\",\"fill_alpha\":{\"value\":0.5},\"fill_color\":{\"value\":\"lightgrey\"},\"left_units\":\"screen\",\"level\":\"overlay\",\"line_alpha\":{\"value\":1.0},\"line_color\":{\"value\":\"black\"},\"line_dash\":[4,4],\"line_width\":{\"value\":2},\"plot\":null,\"render_mode\":\"css\",\"right_units\":\"screen\",\"top_units\":\"screen\"},\"id\":\"3cad94a9-8941-45ff-a20b-605947666b1c\",\"type\":\"BoxAnnotation\"},{\"attributes\":{},\"id\":\"d87eee74-a082-49a6-b535-15a0f97b72e9\",\"type\":\"BasicTickFormatter\"},{\"attributes\":{\"formatter\":{\"id\":\"a6e7a9c2-629c-4678-991f-27b5f481568d\",\"type\":\"BasicTickFormatter\"},\"plot\":{\"id\":\"4a193c50-e16d-4efb-b4ec-d916732ba048\",\"subtype\":\"Figure\",\"type\":\"Plot\"},\"ticker\":{\"id\":\"2cc59b6c-da2e-4405-b4f8-73ea1b9c8314\",\"type\":\"BasicTicker\"}},\"id\":\"c34772b7-b265-4dfa-b7b0-7a5ffb78fdee\",\"type\":\"LinearAxis\"},{\"attributes\":{\"callback\":null},\"id\":\"65738c2b-2976-4ac3-afa1-688be0daf58d\",\"type\":\"DataRange1d\"},{\"attributes\":{},\"id\":\"a6e7a9c2-629c-4678-991f-27b5f481568d\",\"type\":\"BasicTickFormatter\"},{\"attributes\":{},\"id\":\"c679fedd-1fa2-4970-af03-5e34da337a70\",\"type\":\"LinearScale\"},{\"attributes\":{},\"id\":\"ba2abf8c-455b-4edd-9cdd-74fc9b725afb\",\"type\":\"BasicTicker\"},{\"attributes\":{\"source\":{\"id\":\"08926594-f6f3-4f2b-895c-e8041ca47e59\",\"type\":\"ColumnDataSource\"}},\"id\":\"614984c5-ca66-4edd-b054-130ead9d8ad9\",\"type\":\"CDSView\"},{\"attributes\":{\"overlay\":{\"id\":\"3cad94a9-8941-45ff-a20b-605947666b1c\",\"type\":\"BoxAnnotation\"}},\"id\":\"d4c742ad-b31a-459e-907e-71df7d92ef26\",\"type\":\"BoxZoomTool\"},{\"attributes\":{\"plot\":{\"id\":\"4a193c50-e16d-4efb-b4ec-d916732ba048\",\"subtype\":\"Figure\",\"type\":\"Plot\"},\"ticker\":{\"id\":\"ba2abf8c-455b-4edd-9cdd-74fc9b725afb\",\"type\":\"BasicTicker\"}},\"id\":\"e1cf578d-200e-407b-8682-9e4536f7e575\",\"type\":\"Grid\"},{\"attributes\":{\"below\":[{\"id\":\"4da5a2f0-c361-460c-b10d-c48f1a212294\",\"type\":\"LinearAxis\"}],\"left\":[{\"id\":\"c34772b7-b265-4dfa-b7b0-7a5ffb78fdee\",\"type\":\"LinearAxis\"}],\"plot_height\":400,\"plot_width\":400,\"renderers\":[{\"id\":\"4da5a2f0-c361-460c-b10d-c48f1a212294\",\"type\":\"LinearAxis\"},{\"id\":\"e1cf578d-200e-407b-8682-9e4536f7e575\",\"type\":\"Grid\"},{\"id\":\"c34772b7-b265-4dfa-b7b0-7a5ffb78fdee\",\"type\":\"LinearAxis\"},{\"id\":\"b34f70da-aa53-4e63-b817-1f1c0ca715e6\",\"type\":\"Grid\"},{\"id\":\"3cad94a9-8941-45ff-a20b-605947666b1c\",\"type\":\"BoxAnnotation\"},{\"id\":\"597d003f-378d-47f7-ad63-2e408c975bc3\",\"type\":\"GlyphRenderer\"}],\"title\":{\"id\":\"c234bd6e-91e4-4206-9e6c-98c2d2533122\",\"type\":\"Title\"},\"toolbar\":{\"id\":\"f688526a-85d6-424e-9483-83c46e1fe434\",\"type\":\"Toolbar\"},\"x_range\":{\"id\":\"65738c2b-2976-4ac3-afa1-688be0daf58d\",\"type\":\"DataRange1d\"},\"x_scale\":{\"id\":\"c679fedd-1fa2-4970-af03-5e34da337a70\",\"type\":\"LinearScale\"},\"y_range\":{\"id\":\"603ade87-0b59-4207-a39d-6e69ff21abf7\",\"type\":\"DataRange1d\"},\"y_scale\":{\"id\":\"ae23e2de-1477-42ee-b87c-d22f501a14d8\",\"type\":\"LinearScale\"}},\"id\":\"4a193c50-e16d-4efb-b4ec-d916732ba048\",\"subtype\":\"Figure\",\"type\":\"Plot\"},{\"attributes\":{},\"id\":\"2cc59b6c-da2e-4405-b4f8-73ea1b9c8314\",\"type\":\"BasicTicker\"},{\"attributes\":{\"formatter\":{\"id\":\"d87eee74-a082-49a6-b535-15a0f97b72e9\",\"type\":\"BasicTickFormatter\"},\"plot\":{\"id\":\"4a193c50-e16d-4efb-b4ec-d916732ba048\",\"subtype\":\"Figure\",\"type\":\"Plot\"},\"ticker\":{\"id\":\"ba2abf8c-455b-4edd-9cdd-74fc9b725afb\",\"type\":\"BasicTicker\"}},\"id\":\"4da5a2f0-c361-460c-b10d-c48f1a212294\",\"type\":\"LinearAxis\"},{\"attributes\":{\"callback\":null,\"column_names\":[\"x\",\"y\"],\"data\":{\"x\":[1,2,3],\"y\":[1,2,3]}},\"id\":\"08926594-f6f3-4f2b-895c-e8041ca47e59\",\"type\":\"ColumnDataSource\"}],\"root_ids\":[\"4a193c50-e16d-4efb-b4ec-d916732ba048\"]},\"title\":\"Bokeh Application\",\"version\":\"0.12.13\"}};\n",
       "  var render_items = [{\"docid\":\"7fa9d1bb-12eb-4d76-9b67-385ece709c81\",\"elementid\":\"f8b448d6-9757-40ff-86cd-c21753c40279\",\"modelid\":\"4a193c50-e16d-4efb-b4ec-d916732ba048\"}];\n",
       "  root.Bokeh.embed.embed_items_notebook(docs_json, render_items);\n",
       "\n",
       "  }\n",
       "  if (root.Bokeh !== undefined) {\n",
       "    embed_document(root);\n",
       "  } else {\n",
       "    var attempts = 0;\n",
       "    var timer = setInterval(function(root) {\n",
       "      if (root.Bokeh !== undefined) {\n",
       "        embed_document(root);\n",
       "        clearInterval(timer);\n",
       "      }\n",
       "      attempts++;\n",
       "      if (attempts > 100) {\n",
       "        console.log(\"Bokeh: ERROR: Unable to run BokehJS code because BokehJS library is missing\")\n",
       "        clearInterval(timer);\n",
       "      }\n",
       "    }, 10, root)\n",
       "  }\n",
       "})(window);"
      ],
      "application/vnd.bokehjs_exec.v0+json": ""
     },
     "metadata": {
      "application/vnd.bokehjs_exec.v0+json": {
       "id": "4a193c50-e16d-4efb-b4ec-d916732ba048"
      }
     },
     "output_type": "display_data"
    }
   ],
   "source": [
    "# EXERCISE: Plot some of the other glyph types, following the examples in the User Guide. \n",
    "from bokeh.plotting import figure, show\n",
    "\n",
    "p = figure(plot_width=400, plot_height=400)\n",
    "p.annular_wedge(x=[1, 2, 3], y=[1, 2, 3], inner_radius=0.1, outer_radius=0.25,\n",
    "                start_angle=0.4, end_angle=4.8, color=\"green\", alpha=0.6)\n",
    "\n",
    "show(p)"
   ]
  },
  {
   "cell_type": "code",
   "execution_count": 10,
   "metadata": {},
   "outputs": [
    {
     "data": {
      "text/html": [
       "\n",
       "<div class=\"bk-root\">\n",
       "    <div class=\"bk-plotdiv\" id=\"e50c799e-974b-4103-91e2-ae76f75d00be\"></div>\n",
       "</div>"
      ]
     },
     "metadata": {},
     "output_type": "display_data"
    },
    {
     "data": {
      "application/javascript": [
       "(function(root) {\n",
       "  function embed_document(root) {\n",
       "    \n",
       "  var docs_json = {\"3d690056-7947-47ed-8f2b-bde92aa8e289\":{\"roots\":{\"references\":[{\"attributes\":{\"fill_alpha\":{\"value\":0.1},\"fill_color\":{\"value\":\"#1f77b4\"},\"line_alpha\":{\"value\":0.1},\"line_color\":{\"value\":\"#1f77b4\"},\"line_width\":{\"value\":3},\"size\":{\"units\":\"screen\",\"value\":15},\"x\":{\"field\":\"x\"},\"y\":{\"field\":\"y\"}},\"id\":\"2b6304eb-66a9-48e7-a9dd-48e3433e31d8\",\"type\":\"Circle\"},{\"attributes\":{\"callback\":null,\"factors\":[\"a\",\"b\",\"c\",\"d\",\"e\",\"f\",\"g\",\"h\"]},\"id\":\"8069e3f0-98e4-482b-9b74-91b1698c49b3\",\"type\":\"FactorRange\"},{\"attributes\":{\"below\":[{\"id\":\"c36f683b-08b6-4521-8dbc-2b8aa014ef5d\",\"type\":\"LinearAxis\"}],\"left\":[{\"id\":\"b1685219-252c-4dbb-b6e2-39fe7191d92e\",\"type\":\"CategoricalAxis\"}],\"renderers\":[{\"id\":\"c36f683b-08b6-4521-8dbc-2b8aa014ef5d\",\"type\":\"LinearAxis\"},{\"id\":\"23aeda3e-555a-4cdb-b913-1865b7d26111\",\"type\":\"Grid\"},{\"id\":\"b1685219-252c-4dbb-b6e2-39fe7191d92e\",\"type\":\"CategoricalAxis\"},{\"id\":\"1037176f-2e1b-431a-9c98-e16f68de32c0\",\"type\":\"Grid\"},{\"id\":\"44205d55-55d3-4404-a13a-00c7cd9a64d5\",\"type\":\"BoxAnnotation\"},{\"id\":\"26964bfa-0abc-41f8-bc24-f1f13299aff6\",\"type\":\"GlyphRenderer\"}],\"title\":{\"id\":\"ad4840bd-0d6e-43e8-aa89-89585e293a52\",\"type\":\"Title\"},\"toolbar\":{\"id\":\"ec8c4bba-bdf6-4ebc-9b6e-49defb03d6fd\",\"type\":\"Toolbar\"},\"x_range\":{\"id\":\"6061589e-ea6e-44bc-a3d8-923df91f35cc\",\"type\":\"DataRange1d\"},\"x_scale\":{\"id\":\"b90c48b5-9023-4ec0-8025-d55112887eed\",\"type\":\"LinearScale\"},\"y_range\":{\"id\":\"8069e3f0-98e4-482b-9b74-91b1698c49b3\",\"type\":\"FactorRange\"},\"y_scale\":{\"id\":\"9546227f-d6d6-495f-9cb8-6701fdf8abfd\",\"type\":\"CategoricalScale\"}},\"id\":\"3bcf3bb8-214e-4b34-b466-de050b7710a8\",\"subtype\":\"Figure\",\"type\":\"Plot\"},{\"attributes\":{},\"id\":\"9546227f-d6d6-495f-9cb8-6701fdf8abfd\",\"type\":\"CategoricalScale\"},{\"attributes\":{\"plot\":null,\"text\":\"\"},\"id\":\"ad4840bd-0d6e-43e8-aa89-89585e293a52\",\"type\":\"Title\"},{\"attributes\":{\"active_drag\":\"auto\",\"active_inspect\":\"auto\",\"active_scroll\":\"auto\",\"active_tap\":\"auto\",\"tools\":[{\"id\":\"dcef9075-55b9-4d28-8cc6-53fbd5b17d3e\",\"type\":\"PanTool\"},{\"id\":\"20ef382b-bf7d-4b86-8325-3a2bd0700ed7\",\"type\":\"WheelZoomTool\"},{\"id\":\"8ba428d0-827b-4f4e-8b69-c2693c329669\",\"type\":\"BoxZoomTool\"},{\"id\":\"3dc42973-d6e0-4f64-a856-37fb350317d2\",\"type\":\"SaveTool\"},{\"id\":\"4e4802f1-b271-4277-a8c6-77318e12528d\",\"type\":\"ResetTool\"},{\"id\":\"78984c8c-edb0-438c-9be3-1b1b163f9282\",\"type\":\"HelpTool\"}]},\"id\":\"ec8c4bba-bdf6-4ebc-9b6e-49defb03d6fd\",\"type\":\"Toolbar\"},{\"attributes\":{},\"id\":\"20ef382b-bf7d-4b86-8325-3a2bd0700ed7\",\"type\":\"WheelZoomTool\"},{\"attributes\":{\"formatter\":{\"id\":\"2fd4a0e3-56d5-45fb-9f51-40ed48aff37a\",\"type\":\"CategoricalTickFormatter\"},\"plot\":{\"id\":\"3bcf3bb8-214e-4b34-b466-de050b7710a8\",\"subtype\":\"Figure\",\"type\":\"Plot\"},\"ticker\":{\"id\":\"dd28e434-bd0c-4e98-96ac-f68cc198ddf2\",\"type\":\"CategoricalTicker\"}},\"id\":\"b1685219-252c-4dbb-b6e2-39fe7191d92e\",\"type\":\"CategoricalAxis\"},{\"attributes\":{},\"id\":\"95833907-4ad1-44bb-bbfc-d95b90b8939f\",\"type\":\"BasicTicker\"},{\"attributes\":{\"source\":{\"id\":\"2829d984-a4e4-479d-8126-c40a000b7db0\",\"type\":\"ColumnDataSource\"}},\"id\":\"95ad3861-afbe-434f-8716-b4badaf391d0\",\"type\":\"CDSView\"},{\"attributes\":{},\"id\":\"b90c48b5-9023-4ec0-8025-d55112887eed\",\"type\":\"LinearScale\"},{\"attributes\":{},\"id\":\"dd28e434-bd0c-4e98-96ac-f68cc198ddf2\",\"type\":\"CategoricalTicker\"},{\"attributes\":{\"bottom_units\":\"screen\",\"fill_alpha\":{\"value\":0.5},\"fill_color\":{\"value\":\"lightgrey\"},\"left_units\":\"screen\",\"level\":\"overlay\",\"line_alpha\":{\"value\":1.0},\"line_color\":{\"value\":\"black\"},\"line_dash\":[4,4],\"line_width\":{\"value\":2},\"plot\":null,\"render_mode\":\"css\",\"right_units\":\"screen\",\"top_units\":\"screen\"},\"id\":\"44205d55-55d3-4404-a13a-00c7cd9a64d5\",\"type\":\"BoxAnnotation\"},{\"attributes\":{},\"id\":\"dcef9075-55b9-4d28-8cc6-53fbd5b17d3e\",\"type\":\"PanTool\"},{\"attributes\":{},\"id\":\"4e4802f1-b271-4277-a8c6-77318e12528d\",\"type\":\"ResetTool\"},{\"attributes\":{},\"id\":\"78984c8c-edb0-438c-9be3-1b1b163f9282\",\"type\":\"HelpTool\"},{\"attributes\":{\"overlay\":{\"id\":\"44205d55-55d3-4404-a13a-00c7cd9a64d5\",\"type\":\"BoxAnnotation\"}},\"id\":\"8ba428d0-827b-4f4e-8b69-c2693c329669\",\"type\":\"BoxZoomTool\"},{\"attributes\":{},\"id\":\"5a08a2e5-b445-4d3d-ad23-9e8ef6d56ffb\",\"type\":\"BasicTickFormatter\"},{\"attributes\":{\"callback\":null,\"column_names\":[\"x\",\"y\"],\"data\":{\"x\":[50,40,65,10,25,37,80,60],\"y\":[\"a\",\"b\",\"c\",\"d\",\"e\",\"f\",\"g\",\"h\"]}},\"id\":\"2829d984-a4e4-479d-8126-c40a000b7db0\",\"type\":\"ColumnDataSource\"},{\"attributes\":{\"callback\":null},\"id\":\"6061589e-ea6e-44bc-a3d8-923df91f35cc\",\"type\":\"DataRange1d\"},{\"attributes\":{},\"id\":\"3dc42973-d6e0-4f64-a856-37fb350317d2\",\"type\":\"SaveTool\"},{\"attributes\":{\"dimension\":1,\"plot\":{\"id\":\"3bcf3bb8-214e-4b34-b466-de050b7710a8\",\"subtype\":\"Figure\",\"type\":\"Plot\"},\"ticker\":{\"id\":\"dd28e434-bd0c-4e98-96ac-f68cc198ddf2\",\"type\":\"CategoricalTicker\"}},\"id\":\"1037176f-2e1b-431a-9c98-e16f68de32c0\",\"type\":\"Grid\"},{\"attributes\":{\"formatter\":{\"id\":\"5a08a2e5-b445-4d3d-ad23-9e8ef6d56ffb\",\"type\":\"BasicTickFormatter\"},\"plot\":{\"id\":\"3bcf3bb8-214e-4b34-b466-de050b7710a8\",\"subtype\":\"Figure\",\"type\":\"Plot\"},\"ticker\":{\"id\":\"95833907-4ad1-44bb-bbfc-d95b90b8939f\",\"type\":\"BasicTicker\"}},\"id\":\"c36f683b-08b6-4521-8dbc-2b8aa014ef5d\",\"type\":\"LinearAxis\"},{\"attributes\":{\"data_source\":{\"id\":\"2829d984-a4e4-479d-8126-c40a000b7db0\",\"type\":\"ColumnDataSource\"},\"glyph\":{\"id\":\"9fab3f00-b8c6-4950-9dcd-15a6d9510528\",\"type\":\"Circle\"},\"hover_glyph\":null,\"muted_glyph\":null,\"nonselection_glyph\":{\"id\":\"2b6304eb-66a9-48e7-a9dd-48e3433e31d8\",\"type\":\"Circle\"},\"selection_glyph\":null,\"view\":{\"id\":\"95ad3861-afbe-434f-8716-b4badaf391d0\",\"type\":\"CDSView\"}},\"id\":\"26964bfa-0abc-41f8-bc24-f1f13299aff6\",\"type\":\"GlyphRenderer\"},{\"attributes\":{\"fill_color\":{\"value\":\"orange\"},\"line_color\":{\"value\":\"green\"},\"line_width\":{\"value\":3},\"size\":{\"units\":\"screen\",\"value\":15},\"x\":{\"field\":\"x\"},\"y\":{\"field\":\"y\"}},\"id\":\"9fab3f00-b8c6-4950-9dcd-15a6d9510528\",\"type\":\"Circle\"},{\"attributes\":{\"plot\":{\"id\":\"3bcf3bb8-214e-4b34-b466-de050b7710a8\",\"subtype\":\"Figure\",\"type\":\"Plot\"},\"ticker\":{\"id\":\"95833907-4ad1-44bb-bbfc-d95b90b8939f\",\"type\":\"BasicTicker\"}},\"id\":\"23aeda3e-555a-4cdb-b913-1865b7d26111\",\"type\":\"Grid\"},{\"attributes\":{},\"id\":\"2fd4a0e3-56d5-45fb-9f51-40ed48aff37a\",\"type\":\"CategoricalTickFormatter\"}],\"root_ids\":[\"3bcf3bb8-214e-4b34-b466-de050b7710a8\"]},\"title\":\"Bokeh Application\",\"version\":\"0.12.13\"}};\n",
       "  var render_items = [{\"docid\":\"3d690056-7947-47ed-8f2b-bde92aa8e289\",\"elementid\":\"e50c799e-974b-4103-91e2-ae76f75d00be\",\"modelid\":\"3bcf3bb8-214e-4b34-b466-de050b7710a8\"}];\n",
       "  root.Bokeh.embed.embed_items_notebook(docs_json, render_items);\n",
       "\n",
       "  }\n",
       "  if (root.Bokeh !== undefined) {\n",
       "    embed_document(root);\n",
       "  } else {\n",
       "    var attempts = 0;\n",
       "    var timer = setInterval(function(root) {\n",
       "      if (root.Bokeh !== undefined) {\n",
       "        embed_document(root);\n",
       "        clearInterval(timer);\n",
       "      }\n",
       "      attempts++;\n",
       "      if (attempts > 100) {\n",
       "        console.log(\"Bokeh: ERROR: Unable to run BokehJS code because BokehJS library is missing\")\n",
       "        clearInterval(timer);\n",
       "      }\n",
       "    }, 10, root)\n",
       "  }\n",
       "})(window);"
      ],
      "application/vnd.bokehjs_exec.v0+json": ""
     },
     "metadata": {
      "application/vnd.bokehjs_exec.v0+json": {
       "id": "3bcf3bb8-214e-4b34-b466-de050b7710a8"
      }
     },
     "output_type": "display_data"
    }
   ],
   "source": [
    "from bokeh.plotting import figure, output_file, show\n",
    "\n",
    "factors = [\"a\", \"b\", \"c\", \"d\", \"e\", \"f\", \"g\", \"h\"]\n",
    "x = [50, 40, 65, 10, 25, 37, 80, 60]\n",
    "\n",
    "output_file(\"categorical.html\")\n",
    "\n",
    "p = figure(y_range=factors)\n",
    "\n",
    "p.circle(x, factors, size=15, fill_color=\"orange\", line_color=\"green\", line_width=3)\n",
    "\n",
    "show(p)"
   ]
  },
  {
   "cell_type": "markdown",
   "metadata": {},
   "source": [
    "# Plots with Multiple Glyphs \n",
    "\n",
    "It is possible to combine more than one glyph on a single figure. You just need to call multiple glyph methods on one figure object:"
   ]
  },
  {
   "cell_type": "code",
   "execution_count": 11,
   "metadata": {},
   "outputs": [
    {
     "data": {
      "text/html": [
       "\n",
       "<div class=\"bk-root\">\n",
       "    <div class=\"bk-plotdiv\" id=\"f121cb08-4cee-458e-9804-66746dcbad2d\"></div>\n",
       "</div>"
      ]
     },
     "metadata": {},
     "output_type": "display_data"
    },
    {
     "data": {
      "application/javascript": [
       "(function(root) {\n",
       "  function embed_document(root) {\n",
       "    \n",
       "  var docs_json = {\"00b509a9-242e-48f5-826a-92dfc9855430\":{\"roots\":{\"references\":[{\"attributes\":{},\"id\":\"46d8c35e-9ef0-460f-9064-9a65ba6973db\",\"type\":\"BasicTickFormatter\"},{\"attributes\":{\"plot\":{\"id\":\"46e49eca-12ad-4bb7-8e31-021bbac8f1e2\",\"subtype\":\"Figure\",\"type\":\"Plot\"},\"ticker\":{\"id\":\"bcc129bb-e2f7-4444-8f6f-7f95c9b71e45\",\"type\":\"BasicTicker\"}},\"id\":\"92eb2d26-f98a-448d-a688-35b83ba8c5e7\",\"type\":\"Grid\"},{\"attributes\":{\"line_alpha\":0.1,\"line_color\":\"#1f77b4\",\"line_width\":2,\"x\":{\"field\":\"x\"},\"y\":{\"field\":\"y\"}},\"id\":\"285f7503-07de-43bf-ace3-91cf961c8b72\",\"type\":\"Line\"},{\"attributes\":{\"formatter\":{\"id\":\"46d8c35e-9ef0-460f-9064-9a65ba6973db\",\"type\":\"BasicTickFormatter\"},\"plot\":{\"id\":\"46e49eca-12ad-4bb7-8e31-021bbac8f1e2\",\"subtype\":\"Figure\",\"type\":\"Plot\"},\"ticker\":{\"id\":\"92d61449-fff8-4e49-86bf-3fba3ef7fd01\",\"type\":\"BasicTicker\"}},\"id\":\"3029409a-39fe-4a26-b88c-ab5c61e1184e\",\"type\":\"LinearAxis\"},{\"attributes\":{\"below\":[{\"id\":\"f76466ad-94be-4b24-8294-e0278d44f24f\",\"type\":\"LinearAxis\"}],\"left\":[{\"id\":\"3029409a-39fe-4a26-b88c-ab5c61e1184e\",\"type\":\"LinearAxis\"}],\"plot_height\":400,\"plot_width\":400,\"renderers\":[{\"id\":\"f76466ad-94be-4b24-8294-e0278d44f24f\",\"type\":\"LinearAxis\"},{\"id\":\"92eb2d26-f98a-448d-a688-35b83ba8c5e7\",\"type\":\"Grid\"},{\"id\":\"3029409a-39fe-4a26-b88c-ab5c61e1184e\",\"type\":\"LinearAxis\"},{\"id\":\"3b1b58ea-98fe-4601-addc-178a0be3e8d9\",\"type\":\"Grid\"},{\"id\":\"c64a1bdc-3713-49e0-a54e-72254ca24a51\",\"type\":\"BoxAnnotation\"},{\"id\":\"221f5aa2-fcb4-466f-8732-e04fa9439970\",\"type\":\"GlyphRenderer\"},{\"id\":\"e15f97e1-2062-4e6a-8b36-0fdc62580d4a\",\"type\":\"GlyphRenderer\"}],\"title\":{\"id\":\"4d1531aa-8518-4059-b057-15ddd513d9f0\",\"type\":\"Title\"},\"toolbar\":{\"id\":\"4ad1f6bf-a177-40c8-aa8a-0e1317b36d8c\",\"type\":\"Toolbar\"},\"x_range\":{\"id\":\"fea7ec0b-12fa-43ad-84c6-f6ad2bdd95c1\",\"type\":\"DataRange1d\"},\"x_scale\":{\"id\":\"c397249d-00a8-40d5-abcb-733a712c4a43\",\"type\":\"LinearScale\"},\"y_range\":{\"id\":\"71608043-85f0-4bd7-903c-c8d1b64c5897\",\"type\":\"DataRange1d\"},\"y_scale\":{\"id\":\"d3fc93d7-fde0-473f-8e4d-d6e84701174c\",\"type\":\"LinearScale\"}},\"id\":\"46e49eca-12ad-4bb7-8e31-021bbac8f1e2\",\"subtype\":\"Figure\",\"type\":\"Plot\"},{\"attributes\":{\"fill_alpha\":{\"value\":0.1},\"fill_color\":{\"value\":\"#1f77b4\"},\"line_alpha\":{\"value\":0.1},\"line_color\":{\"value\":\"#1f77b4\"},\"size\":{\"units\":\"screen\",\"value\":8},\"x\":{\"field\":\"x\"},\"y\":{\"field\":\"y\"}},\"id\":\"09822f77-e49f-47bf-b0bd-f0441edeeded\",\"type\":\"Circle\"},{\"attributes\":{\"callback\":null},\"id\":\"fea7ec0b-12fa-43ad-84c6-f6ad2bdd95c1\",\"type\":\"DataRange1d\"},{\"attributes\":{\"bottom_units\":\"screen\",\"fill_alpha\":{\"value\":0.5},\"fill_color\":{\"value\":\"lightgrey\"},\"left_units\":\"screen\",\"level\":\"overlay\",\"line_alpha\":{\"value\":1.0},\"line_color\":{\"value\":\"black\"},\"line_dash\":[4,4],\"line_width\":{\"value\":2},\"plot\":null,\"render_mode\":\"css\",\"right_units\":\"screen\",\"top_units\":\"screen\"},\"id\":\"c64a1bdc-3713-49e0-a54e-72254ca24a51\",\"type\":\"BoxAnnotation\"},{\"attributes\":{\"source\":{\"id\":\"4d759990-555e-46c9-aed5-670747dbfad7\",\"type\":\"ColumnDataSource\"}},\"id\":\"05a2fcca-2ef8-4ba1-a2f2-136bb9e8d52a\",\"type\":\"CDSView\"},{\"attributes\":{\"formatter\":{\"id\":\"da0f06a9-175b-48ee-8650-873982bf9c99\",\"type\":\"BasicTickFormatter\"},\"plot\":{\"id\":\"46e49eca-12ad-4bb7-8e31-021bbac8f1e2\",\"subtype\":\"Figure\",\"type\":\"Plot\"},\"ticker\":{\"id\":\"bcc129bb-e2f7-4444-8f6f-7f95c9b71e45\",\"type\":\"BasicTicker\"}},\"id\":\"f76466ad-94be-4b24-8294-e0278d44f24f\",\"type\":\"LinearAxis\"},{\"attributes\":{\"callback\":null,\"column_names\":[\"x\",\"y\"],\"data\":{\"x\":[1,2,3,4,5],\"y\":[6,7,8,7,3]}},\"id\":\"1e479dc5-6410-4a7f-96a7-c328c56855d8\",\"type\":\"ColumnDataSource\"},{\"attributes\":{},\"id\":\"92d61449-fff8-4e49-86bf-3fba3ef7fd01\",\"type\":\"BasicTicker\"},{\"attributes\":{\"data_source\":{\"id\":\"1e479dc5-6410-4a7f-96a7-c328c56855d8\",\"type\":\"ColumnDataSource\"},\"glyph\":{\"id\":\"01d0f7f5-e315-45cf-8c48-4889d77f74f5\",\"type\":\"Line\"},\"hover_glyph\":null,\"muted_glyph\":null,\"nonselection_glyph\":{\"id\":\"285f7503-07de-43bf-ace3-91cf961c8b72\",\"type\":\"Line\"},\"selection_glyph\":null,\"view\":{\"id\":\"cd6f97a1-1eff-46eb-8998-a2ec3f5b0167\",\"type\":\"CDSView\"}},\"id\":\"221f5aa2-fcb4-466f-8732-e04fa9439970\",\"type\":\"GlyphRenderer\"},{\"attributes\":{\"fill_color\":{\"value\":\"white\"},\"line_color\":{\"value\":\"#1f77b4\"},\"size\":{\"units\":\"screen\",\"value\":8},\"x\":{\"field\":\"x\"},\"y\":{\"field\":\"y\"}},\"id\":\"8284a141-ac8f-4f04-b1d7-78ed316f0701\",\"type\":\"Circle\"},{\"attributes\":{\"overlay\":{\"id\":\"c64a1bdc-3713-49e0-a54e-72254ca24a51\",\"type\":\"BoxAnnotation\"}},\"id\":\"1b53f3b8-ccac-4698-9996-d4c907c89c00\",\"type\":\"BoxZoomTool\"},{\"attributes\":{\"line_color\":\"#1f77b4\",\"line_width\":2,\"x\":{\"field\":\"x\"},\"y\":{\"field\":\"y\"}},\"id\":\"01d0f7f5-e315-45cf-8c48-4889d77f74f5\",\"type\":\"Line\"},{\"attributes\":{\"plot\":null,\"text\":\"\"},\"id\":\"4d1531aa-8518-4059-b057-15ddd513d9f0\",\"type\":\"Title\"},{\"attributes\":{},\"id\":\"9e0a4a10-60e4-4ac5-b6fe-ca44543095d8\",\"type\":\"PanTool\"},{\"attributes\":{},\"id\":\"bcc129bb-e2f7-4444-8f6f-7f95c9b71e45\",\"type\":\"BasicTicker\"},{\"attributes\":{},\"id\":\"d3fc93d7-fde0-473f-8e4d-d6e84701174c\",\"type\":\"LinearScale\"},{\"attributes\":{},\"id\":\"2c7d5c0f-c150-41a9-910f-ee77abd35ff2\",\"type\":\"SaveTool\"},{\"attributes\":{},\"id\":\"f5efe138-2ced-4091-95e3-796b3564a85a\",\"type\":\"HelpTool\"},{\"attributes\":{},\"id\":\"da0f06a9-175b-48ee-8650-873982bf9c99\",\"type\":\"BasicTickFormatter\"},{\"attributes\":{\"dimension\":1,\"plot\":{\"id\":\"46e49eca-12ad-4bb7-8e31-021bbac8f1e2\",\"subtype\":\"Figure\",\"type\":\"Plot\"},\"ticker\":{\"id\":\"92d61449-fff8-4e49-86bf-3fba3ef7fd01\",\"type\":\"BasicTicker\"}},\"id\":\"3b1b58ea-98fe-4601-addc-178a0be3e8d9\",\"type\":\"Grid\"},{\"attributes\":{},\"id\":\"0428e964-b949-4e3f-9b2f-3cf87565afd6\",\"type\":\"WheelZoomTool\"},{\"attributes\":{\"source\":{\"id\":\"1e479dc5-6410-4a7f-96a7-c328c56855d8\",\"type\":\"ColumnDataSource\"}},\"id\":\"cd6f97a1-1eff-46eb-8998-a2ec3f5b0167\",\"type\":\"CDSView\"},{\"attributes\":{\"data_source\":{\"id\":\"4d759990-555e-46c9-aed5-670747dbfad7\",\"type\":\"ColumnDataSource\"},\"glyph\":{\"id\":\"8284a141-ac8f-4f04-b1d7-78ed316f0701\",\"type\":\"Circle\"},\"hover_glyph\":null,\"muted_glyph\":null,\"nonselection_glyph\":{\"id\":\"09822f77-e49f-47bf-b0bd-f0441edeeded\",\"type\":\"Circle\"},\"selection_glyph\":null,\"view\":{\"id\":\"05a2fcca-2ef8-4ba1-a2f2-136bb9e8d52a\",\"type\":\"CDSView\"}},\"id\":\"e15f97e1-2062-4e6a-8b36-0fdc62580d4a\",\"type\":\"GlyphRenderer\"},{\"attributes\":{\"callback\":null,\"column_names\":[\"x\",\"y\"],\"data\":{\"x\":[1,2,3,4,5],\"y\":[6,7,8,7,3]}},\"id\":\"4d759990-555e-46c9-aed5-670747dbfad7\",\"type\":\"ColumnDataSource\"},{\"attributes\":{},\"id\":\"2679517f-11bd-4429-a231-04c328087246\",\"type\":\"ResetTool\"},{\"attributes\":{},\"id\":\"c397249d-00a8-40d5-abcb-733a712c4a43\",\"type\":\"LinearScale\"},{\"attributes\":{\"active_drag\":\"auto\",\"active_inspect\":\"auto\",\"active_scroll\":\"auto\",\"active_tap\":\"auto\",\"tools\":[{\"id\":\"9e0a4a10-60e4-4ac5-b6fe-ca44543095d8\",\"type\":\"PanTool\"},{\"id\":\"0428e964-b949-4e3f-9b2f-3cf87565afd6\",\"type\":\"WheelZoomTool\"},{\"id\":\"1b53f3b8-ccac-4698-9996-d4c907c89c00\",\"type\":\"BoxZoomTool\"},{\"id\":\"2c7d5c0f-c150-41a9-910f-ee77abd35ff2\",\"type\":\"SaveTool\"},{\"id\":\"2679517f-11bd-4429-a231-04c328087246\",\"type\":\"ResetTool\"},{\"id\":\"f5efe138-2ced-4091-95e3-796b3564a85a\",\"type\":\"HelpTool\"}]},\"id\":\"4ad1f6bf-a177-40c8-aa8a-0e1317b36d8c\",\"type\":\"Toolbar\"},{\"attributes\":{\"callback\":null},\"id\":\"71608043-85f0-4bd7-903c-c8d1b64c5897\",\"type\":\"DataRange1d\"}],\"root_ids\":[\"46e49eca-12ad-4bb7-8e31-021bbac8f1e2\"]},\"title\":\"Bokeh Application\",\"version\":\"0.12.13\"}};\n",
       "  var render_items = [{\"docid\":\"00b509a9-242e-48f5-826a-92dfc9855430\",\"elementid\":\"f121cb08-4cee-458e-9804-66746dcbad2d\",\"modelid\":\"46e49eca-12ad-4bb7-8e31-021bbac8f1e2\"}];\n",
       "  root.Bokeh.embed.embed_items_notebook(docs_json, render_items);\n",
       "\n",
       "  }\n",
       "  if (root.Bokeh !== undefined) {\n",
       "    embed_document(root);\n",
       "  } else {\n",
       "    var attempts = 0;\n",
       "    var timer = setInterval(function(root) {\n",
       "      if (root.Bokeh !== undefined) {\n",
       "        embed_document(root);\n",
       "        clearInterval(timer);\n",
       "      }\n",
       "      attempts++;\n",
       "      if (attempts > 100) {\n",
       "        console.log(\"Bokeh: ERROR: Unable to run BokehJS code because BokehJS library is missing\")\n",
       "        clearInterval(timer);\n",
       "      }\n",
       "    }, 10, root)\n",
       "  }\n",
       "})(window);"
      ],
      "application/vnd.bokehjs_exec.v0+json": ""
     },
     "metadata": {
      "application/vnd.bokehjs_exec.v0+json": {
       "id": "46e49eca-12ad-4bb7-8e31-021bbac8f1e2"
      }
     },
     "output_type": "display_data"
    }
   ],
   "source": [
    "# set up some data\n",
    "x = [1, 2, 3, 4, 5]\n",
    "y = [6, 7, 8, 7, 3]\n",
    "\n",
    "# create a new plot with figure\n",
    "p = figure(plot_width=400, plot_height=400)\n",
    "\n",
    "# add both a line and circles on the same plot\n",
    "p.line(x, y, line_width=2)\n",
    "p.circle(x, y, fill_color=\"white\", size=8)\n",
    "\n",
    "show(p) # show the results"
   ]
  },
  {
   "cell_type": "code",
   "execution_count": 12,
   "metadata": {},
   "outputs": [
    {
     "data": {
      "text/html": [
       "\n",
       "<div class=\"bk-root\">\n",
       "    <div class=\"bk-plotdiv\" id=\"4e971a43-30e7-4601-bf4f-8185193c4461\"></div>\n",
       "</div>"
      ]
     },
     "metadata": {},
     "output_type": "display_data"
    },
    {
     "data": {
      "application/javascript": [
       "(function(root) {\n",
       "  function embed_document(root) {\n",
       "    \n",
       "  var docs_json = {\"91ff7176-c124-40c6-ae15-75558c381a85\":{\"roots\":{\"references\":[{\"attributes\":{\"active_drag\":\"auto\",\"active_inspect\":\"auto\",\"active_scroll\":\"auto\",\"active_tap\":\"auto\",\"tools\":[{\"id\":\"2cc312d9-08db-439a-b0a3-304a0d1315b0\",\"type\":\"PanTool\"},{\"id\":\"35ce2adb-fd34-4a44-90fb-1fb8323f5b87\",\"type\":\"WheelZoomTool\"},{\"id\":\"736bfac3-882d-4387-b3d3-75f1bbf3aba8\",\"type\":\"BoxZoomTool\"},{\"id\":\"abd90efc-0002-474b-9f4d-66a4c4eae131\",\"type\":\"SaveTool\"},{\"id\":\"544da4c6-2989-4970-8a6a-b32df34cd986\",\"type\":\"ResetTool\"},{\"id\":\"439fec5d-0a13-490f-b458-e01656af3796\",\"type\":\"HelpTool\"}]},\"id\":\"bf64cfab-1c58-43ce-9c7f-223d1ce58ed7\",\"type\":\"Toolbar\"},{\"attributes\":{},\"id\":\"35ce2adb-fd34-4a44-90fb-1fb8323f5b87\",\"type\":\"WheelZoomTool\"},{\"attributes\":{\"plot\":null,\"text\":\"\"},\"id\":\"9dff0034-19ac-44de-bfd3-cec22e157f50\",\"type\":\"Title\"},{\"attributes\":{\"source\":{\"id\":\"e2fabdae-632f-4866-b1a2-1f2d81a3cae3\",\"type\":\"ColumnDataSource\"}},\"id\":\"cf48d7de-9b68-41cd-8e29-0babf558e7f9\",\"type\":\"CDSView\"},{\"attributes\":{},\"id\":\"544da4c6-2989-4970-8a6a-b32df34cd986\",\"type\":\"ResetTool\"},{\"attributes\":{},\"id\":\"abd90efc-0002-474b-9f4d-66a4c4eae131\",\"type\":\"SaveTool\"},{\"attributes\":{\"source\":{\"id\":\"74e6e2b0-2034-46fd-8ab7-0ed3d56c5446\",\"type\":\"ColumnDataSource\"}},\"id\":\"292a6a3a-7e6b-4c25-b3a7-a533d9fd2bb6\",\"type\":\"CDSView\"},{\"attributes\":{},\"id\":\"76dc646c-707c-4557-8225-f5cca36206d3\",\"type\":\"BasicTickFormatter\"},{\"attributes\":{\"fill_color\":{\"value\":\"#1f77b4\"},\"height\":{\"field\":\"height\"},\"left\":{\"field\":\"left\"},\"line_color\":{\"value\":\"#1f77b4\"},\"right\":{\"field\":\"right\"},\"y\":{\"field\":\"y\"}},\"id\":\"7167e9e3-c750-401b-8143-ed1822753e96\",\"type\":\"HBar\"},{\"attributes\":{},\"id\":\"2cc312d9-08db-439a-b0a3-304a0d1315b0\",\"type\":\"PanTool\"},{\"attributes\":{\"callback\":null},\"id\":\"e30f7b26-14b2-43aa-bcd7-8709667f020a\",\"type\":\"DataRange1d\"},{\"attributes\":{\"plot\":{\"id\":\"c38e879a-a4d8-43bb-adf7-b9681dad6eb4\",\"subtype\":\"Figure\",\"type\":\"Plot\"},\"ticker\":{\"id\":\"f5876aad-f651-4163-ae6b-19b75478ee81\",\"type\":\"BasicTicker\"}},\"id\":\"82e34bb7-a8ec-4387-9631-a3e724516d88\",\"type\":\"Grid\"},{\"attributes\":{\"callback\":null},\"id\":\"a5fefbe6-750b-4669-9204-776c53b6e5ba\",\"type\":\"DataRange1d\"},{\"attributes\":{},\"id\":\"611b1b0e-bdb7-49ca-b90e-bacc375688de\",\"type\":\"LinearScale\"},{\"attributes\":{\"callback\":null,\"column_names\":[\"y\",\"height\",\"right\",\"left\"],\"data\":{\"height\":{\"__ndarray__\":\"AQAAAAIAAAADAAAABAAAAAUAAAA=\",\"dtype\":\"int32\",\"shape\":[5]},\"left\":{\"__ndarray__\":\"zczMzMzM7D9mZmZmZmb+PzMzMzMzMwdAMzMzMzMzD0CamZmZmZkTQA==\",\"dtype\":\"float64\",\"shape\":[5]},\"right\":{\"__ndarray__\":\"mpmZmZmZ8T/NzMzMzMwAQM3MzMzMzAhAZmZmZmZmEEBmZmZmZmYUQA==\",\"dtype\":\"float64\",\"shape\":[5]},\"y\":{\"__ndarray__\":\"AAAAAAAA4D8AAAAAAADwPwAAAAAAAPg/AAAAAAAAAEAAAAAAAAAEQA==\",\"dtype\":\"float64\",\"shape\":[5]}}},\"id\":\"e2fabdae-632f-4866-b1a2-1f2d81a3cae3\",\"type\":\"ColumnDataSource\"},{\"attributes\":{\"formatter\":{\"id\":\"76dc646c-707c-4557-8225-f5cca36206d3\",\"type\":\"BasicTickFormatter\"},\"plot\":{\"id\":\"c38e879a-a4d8-43bb-adf7-b9681dad6eb4\",\"subtype\":\"Figure\",\"type\":\"Plot\"},\"ticker\":{\"id\":\"f5876aad-f651-4163-ae6b-19b75478ee81\",\"type\":\"BasicTicker\"}},\"id\":\"30817a06-6dbf-4d10-9393-904d4822faae\",\"type\":\"LinearAxis\"},{\"attributes\":{},\"id\":\"2d2dacd4-837b-439a-b25e-84ffbb54e6fb\",\"type\":\"LinearScale\"},{\"attributes\":{},\"id\":\"f5876aad-f651-4163-ae6b-19b75478ee81\",\"type\":\"BasicTicker\"},{\"attributes\":{\"fill_alpha\":{\"value\":0.1},\"fill_color\":{\"value\":\"#1f77b4\"},\"height\":{\"field\":\"height\"},\"left\":{\"field\":\"left\"},\"line_alpha\":{\"value\":0.1},\"line_color\":{\"value\":\"#1f77b4\"},\"right\":{\"field\":\"right\"},\"y\":{\"field\":\"y\"}},\"id\":\"18f2348d-e34c-4718-a7fd-3fbd7b3e34da\",\"type\":\"HBar\"},{\"attributes\":{},\"id\":\"72c11903-cbb8-44d0-8dc6-1c8944d75ff3\",\"type\":\"BasicTickFormatter\"},{\"attributes\":{\"bottom_units\":\"screen\",\"fill_alpha\":{\"value\":0.5},\"fill_color\":{\"value\":\"lightgrey\"},\"left_units\":\"screen\",\"level\":\"overlay\",\"line_alpha\":{\"value\":1.0},\"line_color\":{\"value\":\"black\"},\"line_dash\":[4,4],\"line_width\":{\"value\":2},\"plot\":null,\"render_mode\":\"css\",\"right_units\":\"screen\",\"top_units\":\"screen\"},\"id\":\"66e4dde4-5914-49fc-8862-cb45a6e61393\",\"type\":\"BoxAnnotation\"},{\"attributes\":{\"formatter\":{\"id\":\"72c11903-cbb8-44d0-8dc6-1c8944d75ff3\",\"type\":\"BasicTickFormatter\"},\"plot\":{\"id\":\"c38e879a-a4d8-43bb-adf7-b9681dad6eb4\",\"subtype\":\"Figure\",\"type\":\"Plot\"},\"ticker\":{\"id\":\"a76676e6-35c5-45c9-b586-931bd640da1f\",\"type\":\"BasicTicker\"}},\"id\":\"934128bf-60bf-49e3-bb06-0c68a8f230d2\",\"type\":\"LinearAxis\"},{\"attributes\":{\"below\":[{\"id\":\"30817a06-6dbf-4d10-9393-904d4822faae\",\"type\":\"LinearAxis\"}],\"left\":[{\"id\":\"934128bf-60bf-49e3-bb06-0c68a8f230d2\",\"type\":\"LinearAxis\"}],\"plot_height\":400,\"plot_width\":400,\"renderers\":[{\"id\":\"30817a06-6dbf-4d10-9393-904d4822faae\",\"type\":\"LinearAxis\"},{\"id\":\"82e34bb7-a8ec-4387-9631-a3e724516d88\",\"type\":\"Grid\"},{\"id\":\"934128bf-60bf-49e3-bb06-0c68a8f230d2\",\"type\":\"LinearAxis\"},{\"id\":\"feaca1c7-d67e-4c1a-aebb-20a418db8779\",\"type\":\"Grid\"},{\"id\":\"66e4dde4-5914-49fc-8862-cb45a6e61393\",\"type\":\"BoxAnnotation\"},{\"id\":\"1f183e12-e17c-4fe4-b64e-2d91b8a2c4ef\",\"type\":\"GlyphRenderer\"},{\"id\":\"cb561ea5-6fb5-445e-802d-f80a184d3325\",\"type\":\"GlyphRenderer\"}],\"title\":{\"id\":\"9dff0034-19ac-44de-bfd3-cec22e157f50\",\"type\":\"Title\"},\"toolbar\":{\"id\":\"bf64cfab-1c58-43ce-9c7f-223d1ce58ed7\",\"type\":\"Toolbar\"},\"x_range\":{\"id\":\"e30f7b26-14b2-43aa-bcd7-8709667f020a\",\"type\":\"DataRange1d\"},\"x_scale\":{\"id\":\"611b1b0e-bdb7-49ca-b90e-bacc375688de\",\"type\":\"LinearScale\"},\"y_range\":{\"id\":\"a5fefbe6-750b-4669-9204-776c53b6e5ba\",\"type\":\"DataRange1d\"},\"y_scale\":{\"id\":\"2d2dacd4-837b-439a-b25e-84ffbb54e6fb\",\"type\":\"LinearScale\"}},\"id\":\"c38e879a-a4d8-43bb-adf7-b9681dad6eb4\",\"subtype\":\"Figure\",\"type\":\"Plot\"},{\"attributes\":{\"dimension\":1,\"plot\":{\"id\":\"c38e879a-a4d8-43bb-adf7-b9681dad6eb4\",\"subtype\":\"Figure\",\"type\":\"Plot\"},\"ticker\":{\"id\":\"a76676e6-35c5-45c9-b586-931bd640da1f\",\"type\":\"BasicTicker\"}},\"id\":\"feaca1c7-d67e-4c1a-aebb-20a418db8779\",\"type\":\"Grid\"},{\"attributes\":{\"data_source\":{\"id\":\"e2fabdae-632f-4866-b1a2-1f2d81a3cae3\",\"type\":\"ColumnDataSource\"},\"glyph\":{\"id\":\"7167e9e3-c750-401b-8143-ed1822753e96\",\"type\":\"HBar\"},\"hover_glyph\":null,\"muted_glyph\":null,\"nonselection_glyph\":{\"id\":\"18f2348d-e34c-4718-a7fd-3fbd7b3e34da\",\"type\":\"HBar\"},\"selection_glyph\":null,\"view\":{\"id\":\"cf48d7de-9b68-41cd-8e29-0babf558e7f9\",\"type\":\"CDSView\"}},\"id\":\"1f183e12-e17c-4fe4-b64e-2d91b8a2c4ef\",\"type\":\"GlyphRenderer\"},{\"attributes\":{\"callback\":null,\"column_names\":[\"x\",\"y\"],\"data\":{\"x\":{\"__ndarray__\":\"AQAAAAIAAAADAAAABAAAAAUAAAA=\",\"dtype\":\"int32\",\"shape\":[5]},\"y\":{\"__ndarray__\":\"BgAAAAcAAAAIAAAABwAAAAMAAAA=\",\"dtype\":\"int32\",\"shape\":[5]}}},\"id\":\"74e6e2b0-2034-46fd-8ab7-0ed3d56c5446\",\"type\":\"ColumnDataSource\"},{\"attributes\":{\"data_source\":{\"id\":\"74e6e2b0-2034-46fd-8ab7-0ed3d56c5446\",\"type\":\"ColumnDataSource\"},\"glyph\":{\"id\":\"da9f1c8e-37cf-4701-992a-d3e61e8793f8\",\"type\":\"Circle\"},\"hover_glyph\":null,\"muted_glyph\":null,\"nonselection_glyph\":{\"id\":\"0ec3dace-2b74-43b7-b7cc-5bd3f933203b\",\"type\":\"Circle\"},\"selection_glyph\":null,\"view\":{\"id\":\"292a6a3a-7e6b-4c25-b3a7-a533d9fd2bb6\",\"type\":\"CDSView\"}},\"id\":\"cb561ea5-6fb5-445e-802d-f80a184d3325\",\"type\":\"GlyphRenderer\"},{\"attributes\":{\"fill_alpha\":{\"value\":0.1},\"fill_color\":{\"value\":\"#1f77b4\"},\"line_alpha\":{\"value\":0.1},\"line_color\":{\"value\":\"#1f77b4\"},\"size\":{\"units\":\"screen\",\"value\":8},\"x\":{\"field\":\"x\"},\"y\":{\"field\":\"y\"}},\"id\":\"0ec3dace-2b74-43b7-b7cc-5bd3f933203b\",\"type\":\"Circle\"},{\"attributes\":{\"overlay\":{\"id\":\"66e4dde4-5914-49fc-8862-cb45a6e61393\",\"type\":\"BoxAnnotation\"}},\"id\":\"736bfac3-882d-4387-b3d3-75f1bbf3aba8\",\"type\":\"BoxZoomTool\"},{\"attributes\":{},\"id\":\"a76676e6-35c5-45c9-b586-931bd640da1f\",\"type\":\"BasicTicker\"},{\"attributes\":{\"fill_color\":{\"value\":\"white\"},\"line_color\":{\"value\":\"#1f77b4\"},\"size\":{\"units\":\"screen\",\"value\":8},\"x\":{\"field\":\"x\"},\"y\":{\"field\":\"y\"}},\"id\":\"da9f1c8e-37cf-4701-992a-d3e61e8793f8\",\"type\":\"Circle\"},{\"attributes\":{},\"id\":\"439fec5d-0a13-490f-b458-e01656af3796\",\"type\":\"HelpTool\"}],\"root_ids\":[\"c38e879a-a4d8-43bb-adf7-b9681dad6eb4\"]},\"title\":\"Bokeh Application\",\"version\":\"0.12.13\"}};\n",
       "  var render_items = [{\"docid\":\"91ff7176-c124-40c6-ae15-75558c381a85\",\"elementid\":\"4e971a43-30e7-4601-bf4f-8185193c4461\",\"modelid\":\"c38e879a-a4d8-43bb-adf7-b9681dad6eb4\"}];\n",
       "  root.Bokeh.embed.embed_items_notebook(docs_json, render_items);\n",
       "\n",
       "  }\n",
       "  if (root.Bokeh !== undefined) {\n",
       "    embed_document(root);\n",
       "  } else {\n",
       "    var attempts = 0;\n",
       "    var timer = setInterval(function(root) {\n",
       "      if (root.Bokeh !== undefined) {\n",
       "        embed_document(root);\n",
       "        clearInterval(timer);\n",
       "      }\n",
       "      attempts++;\n",
       "      if (attempts > 100) {\n",
       "        console.log(\"Bokeh: ERROR: Unable to run BokehJS code because BokehJS library is missing\")\n",
       "        clearInterval(timer);\n",
       "      }\n",
       "    }, 10, root)\n",
       "  }\n",
       "})(window);"
      ],
      "application/vnd.bokehjs_exec.v0+json": ""
     },
     "metadata": {
      "application/vnd.bokehjs_exec.v0+json": {
       "id": "c38e879a-a4d8-43bb-adf7-b9681dad6eb4"
      }
     },
     "output_type": "display_data"
    }
   ],
   "source": [
    "# EXERCISE: create your own plot combining multiple glyphs together\n",
    "# set up some data\n",
    "x = np.array([1, 2, 3, 4, 5])\n",
    "y = np.array([6, 7, 8, 7, 3])\n",
    "y2 = x/2\n",
    "xl = x - 0.1\n",
    "xr = x + 0.1\n",
    "\n",
    "# create a new plot with figure\n",
    "p = figure(plot_width=400, plot_height=400)\n",
    "\n",
    "# add both a line and circles on the same plot\n",
    "p.hbar(y2, x, x + 0.1, x - 0.1)\n",
    "p.circle(x, y, fill_color=\"white\", size=8)\n",
    "\n",
    "show(p) # show the results\n"
   ]
  },
  {
   "cell_type": "code",
   "execution_count": null,
   "metadata": {},
   "outputs": [],
   "source": []
  }
 ],
 "metadata": {
  "anaconda-cloud": {},
  "kernelspec": {
   "display_name": "Python 3",
   "language": "python",
   "name": "python3"
  },
  "language_info": {
   "codemirror_mode": {
    "name": "ipython",
    "version": 3
   },
   "file_extension": ".py",
   "mimetype": "text/x-python",
   "name": "python",
   "nbconvert_exporter": "python",
   "pygments_lexer": "ipython3",
   "version": "3.6.4"
  }
 },
 "nbformat": 4,
 "nbformat_minor": 1
}
